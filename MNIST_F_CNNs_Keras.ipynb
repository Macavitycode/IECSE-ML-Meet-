{
  "nbformat": 4,
  "nbformat_minor": 0,
  "metadata": {
    "colab": {
      "name": "MNIST_F_CNNs_Keras.ipynb",
      "provenance": [],
      "collapsed_sections": [],
      "authorship_tag": "ABX9TyMnSnqnBCyd4XP5v4/VdndI",
      "include_colab_link": true
    },
    "kernelspec": {
      "name": "python3",
      "display_name": "Python 3"
    },
    "accelerator": "GPU"
  },
  "cells": [
    {
      "cell_type": "markdown",
      "metadata": {
        "id": "view-in-github",
        "colab_type": "text"
      },
      "source": [
        "<a href=\"https://colab.research.google.com/github/whopriyam/IECSE-ML-Meet-/blob/master/MNIST_F_CNNs_Keras.ipynb\" target=\"_parent\"><img src=\"https://colab.research.google.com/assets/colab-badge.svg\" alt=\"Open In Colab\"/></a>"
      ]
    },
    {
      "cell_type": "code",
      "metadata": {
        "id": "aYNeVh4MAiwO",
        "colab_type": "code",
        "outputId": "fe24d4b2-29d8-4f43-caab-af06b4d01296",
        "colab": {
          "base_uri": "https://localhost:8080/",
          "height": 81
        }
      },
      "source": [
        "###Importing the Required Libraries\n",
        "\n",
        "import numpy as np\n",
        "import pandas as pd\n",
        "import matplotlib.pyplot as plt\n",
        "import keras\n",
        "\n",
        "from keras.layers import Dense,Dropout,Conv2D,MaxPooling2D,Flatten\n",
        "from keras.models import Sequential\n",
        "\n",
        "#Warnings Removal\n",
        "import logging\n",
        "import tensorflow as tf\n",
        "tf.get_logger().setLevel(logging.ERROR)"
      ],
      "execution_count": 1,
      "outputs": [
        {
          "output_type": "stream",
          "text": [
            "Using TensorFlow backend.\n"
          ],
          "name": "stderr"
        },
        {
          "output_type": "display_data",
          "data": {
            "text/html": [
              "<p style=\"color: red;\">\n",
              "The default version of TensorFlow in Colab will soon switch to TensorFlow 2.x.<br>\n",
              "We recommend you <a href=\"https://www.tensorflow.org/guide/migrate\" target=\"_blank\">upgrade</a> now \n",
              "or ensure your notebook will continue to use TensorFlow 1.x via the <code>%tensorflow_version 1.x</code> magic:\n",
              "<a href=\"https://colab.research.google.com/notebooks/tensorflow_version.ipynb\" target=\"_blank\">more info</a>.</p>\n"
            ],
            "text/plain": [
              "<IPython.core.display.HTML object>"
            ]
          },
          "metadata": {
            "tags": []
          }
        }
      ]
    },
    {
      "cell_type": "code",
      "metadata": {
        "id": "OQrEwvKvBA6q",
        "colab_type": "code",
        "colab": {
          "base_uri": "https://localhost:8080/",
          "height": 156
        },
        "outputId": "eb6e1944-3692-4071-f02a-90618ba0ede6"
      },
      "source": [
        "###Importing the Dataset from Keras\n",
        "\n",
        "from keras.datasets.fashion_mnist import load_data\n",
        "\n",
        "(X_train_orig,Y_train_orig),(X_test_orig,Y_test_orig) = load_data()"
      ],
      "execution_count": 2,
      "outputs": [
        {
          "output_type": "stream",
          "text": [
            "Downloading data from http://fashion-mnist.s3-website.eu-central-1.amazonaws.com/train-labels-idx1-ubyte.gz\n",
            "32768/29515 [=================================] - 0s 3us/step\n",
            "Downloading data from http://fashion-mnist.s3-website.eu-central-1.amazonaws.com/train-images-idx3-ubyte.gz\n",
            "26427392/26421880 [==============================] - 2s 0us/step\n",
            "Downloading data from http://fashion-mnist.s3-website.eu-central-1.amazonaws.com/t10k-labels-idx1-ubyte.gz\n",
            "8192/5148 [===============================================] - 0s 0us/step\n",
            "Downloading data from http://fashion-mnist.s3-website.eu-central-1.amazonaws.com/t10k-images-idx3-ubyte.gz\n",
            "4423680/4422102 [==============================] - 1s 0us/step\n"
          ],
          "name": "stdout"
        }
      ]
    },
    {
      "cell_type": "code",
      "metadata": {
        "id": "NW1N0vWrBQK_",
        "colab_type": "code",
        "colab": {}
      },
      "source": [
        "###Label Dictionary\n",
        "\n",
        "label_dict = {0:'T-shirt/top',\n",
        "              1:'Trouser',\n",
        "              2:'Pullover',\n",
        "              3:'Dress',\n",
        "              4:'Coat',\n",
        "              5:'Sandal',\n",
        "              6:'Shirt',\n",
        "              7:'Sneaker',\n",
        "              8:'Bag',\n",
        "              9:'Ankle boot'\n",
        "}"
      ],
      "execution_count": 0,
      "outputs": []
    },
    {
      "cell_type": "code",
      "metadata": {
        "id": "LHLbmtxHBSUO",
        "colab_type": "code",
        "outputId": "3dc87c05-794d-4ac7-c25d-ac74a59badef",
        "colab": {
          "base_uri": "https://localhost:8080/",
          "height": 87
        }
      },
      "source": [
        "###Overview of the Imported Data\n",
        "\n",
        "print(\"X_train Original Shape:\",X_train_orig.shape)\n",
        "print(\"Y_train Original Shape:\",Y_train_orig.shape)\n",
        "print(\"X_test Original Shape:\",X_test_orig.shape)\n",
        "print(\"Y_test Original Shape:\",Y_test_orig.shape)"
      ],
      "execution_count": 4,
      "outputs": [
        {
          "output_type": "stream",
          "text": [
            "X_train Original Shape: (60000, 28, 28)\n",
            "Y_train Original Shape: (60000,)\n",
            "X_test Original Shape: (10000, 28, 28)\n",
            "Y_test Original Shape: (10000,)\n"
          ],
          "name": "stdout"
        }
      ]
    },
    {
      "cell_type": "code",
      "metadata": {
        "id": "7z2NO3NoBXoq",
        "colab_type": "code",
        "outputId": "a2f8ac42-77dc-42a9-bd94-af08baf40734",
        "colab": {
          "base_uri": "https://localhost:8080/",
          "height": 300
        }
      },
      "source": [
        "###Visualizing a Training Example\n",
        "\n",
        "img_index = 4326 #Random Training Example\n",
        "img = X_train_orig[img_index]\n",
        "label = Y_train_orig[img_index]\n",
        "\n",
        "print(label_dict[label])\n",
        "plt.imshow(img,cmap='Greys')"
      ],
      "execution_count": 5,
      "outputs": [
        {
          "output_type": "stream",
          "text": [
            "Ankle boot\n"
          ],
          "name": "stdout"
        },
        {
          "output_type": "execute_result",
          "data": {
            "text/plain": [
              "<matplotlib.image.AxesImage at 0x7f71574afa58>"
            ]
          },
          "metadata": {
            "tags": []
          },
          "execution_count": 5
        },
        {
          "output_type": "display_data",
          "data": {
            "image/png": "[encoded data removed]",
            "text/plain": [
              "<Figure size 432x288 with 1 Axes>"
            ]
          },
          "metadata": {
            "tags": []
          }
        }
      ]
    },
    {
      "cell_type": "code",
      "metadata": {
        "id": "xYmZM7VQBbBj",
        "colab_type": "code",
        "colab": {}
      },
      "source": [
        "###Preprocessing the Data\n",
        "\n",
        "##Reshaping the X arrays\n",
        "X_train = X_train_orig.reshape(X_train_orig.shape[0],28,28,1)\n",
        "X_test = X_test_orig.reshape(X_test_orig.shape[0],28,28,1)\n",
        "\n",
        "##Normalizing the Data\n",
        "X_train = X_train/255\n",
        "X_test = X_test/255"
      ],
      "execution_count": 0,
      "outputs": []
    },
    {
      "cell_type": "code",
      "metadata": {
        "id": "Qm1RqzaMCG7Y",
        "colab_type": "code",
        "colab": {}
      },
      "source": [
        "##One Hot encoding\n",
        "\n",
        "Y_train = keras.utils.to_categorical(Y_train_orig,10)\n",
        "Y_test = keras.utils.to_categorical(Y_test_orig,10)"
      ],
      "execution_count": 0,
      "outputs": []
    },
    {
      "cell_type": "code",
      "metadata": {
        "id": "cqQ3QrI7CUca",
        "colab_type": "code",
        "outputId": "e783ce1a-f0a7-4c3d-aa53-2c846bb81e59",
        "colab": {
          "base_uri": "https://localhost:8080/",
          "height": 87
        }
      },
      "source": [
        "###Overview of Processed Data\n",
        "\n",
        "print('X_train Shape:',X_train.shape)\n",
        "print('Y_train Shape:',Y_train.shape)\n",
        "print('X_test Shape:',X_test.shape)\n",
        "print('Y_test Shape:',Y_test.shape)"
      ],
      "execution_count": 8,
      "outputs": [
        {
          "output_type": "stream",
          "text": [
            "X_train Shape: (60000, 28, 28, 1)\n",
            "Y_train Shape: (60000, 10)\n",
            "X_test Shape: (10000, 28, 28, 1)\n",
            "Y_test Shape: (10000, 10)\n"
          ],
          "name": "stdout"
        }
      ]
    },
    {
      "cell_type": "code",
      "metadata": {
        "id": "4ZS2ytce4QnK",
        "colab_type": "code",
        "outputId": "891bc1df-a96f-4e5b-ab47-346308296ab1",
        "colab": {
          "base_uri": "https://localhost:8080/",
          "height": 87
        }
      },
      "source": [
        "###Validation Split\n",
        "from sklearn.model_selection import train_test_split\n",
        "\n",
        "X_train, X_val, Y_train, Y_val = train_test_split(X_train,Y_train, test_size =0.2, random_state = 42)\n",
        "\n",
        "print(X_train.shape)\n",
        "print(X_val.shape)\n",
        "print(Y_train.shape)\n",
        "print(Y_val.shape)"
      ],
      "execution_count": 9,
      "outputs": [
        {
          "output_type": "stream",
          "text": [
            "(48000, 28, 28, 1)\n",
            "(12000, 28, 28, 1)\n",
            "(48000, 10)\n",
            "(12000, 10)\n"
          ],
          "name": "stdout"
        }
      ]
    },
    {
      "cell_type": "code",
      "metadata": {
        "id": "9qNP4hkDCXFK",
        "colab_type": "code",
        "colab": {}
      },
      "source": [
        "###Creating a Model\n",
        "input_shape = (28,28,1) #Defining the input shape\n",
        "\n",
        "model = Sequential() #Allowing the us to make the model, layer by layer.\n",
        "\n",
        "model.add(Conv2D(32,(3,3),padding='SAME',activation='relu',input_shape = input_shape))\n",
        "model.add(MaxPooling2D(pool_size=(2,2),strides=(2,2),padding='SAME'))\n",
        "model.add(Dropout(0.2))\n",
        "\n",
        "model.add(Conv2D(64,(3,3),padding='SAME',activation='relu'))\n",
        "model.add(MaxPooling2D(pool_size=(2,2),strides=(2,2),padding='SAME'))\n",
        "model.add(Dropout(0.2))\n",
        "\n",
        "model.add(Conv2D(128,(3,3),padding='SAME',activation='relu'))\n",
        "model.add(MaxPooling2D(pool_size=(2,2),strides=(2,2),padding='SAME'))\n",
        "model.add(Dropout(0.3))\n",
        "\n",
        "model.add(Conv2D(256,(3,3),padding='SAME',activation='relu'))\n",
        "model.add(MaxPooling2D(pool_size=(2,2),strides=(2,2),padding='SAME'))\n",
        "model.add(Dropout(0.3))\n",
        "model.add(Flatten())\n",
        "\n",
        "model.add(Dense(256,activation='relu'))\n",
        "model.add(Dropout(0.4))\n",
        "\n",
        "model.add(Dense(128,activation='relu'))\n",
        "model.add(Dropout(0.4))\n",
        "\n",
        "model.add(Dense(10,activation='softmax'))"
      ],
      "execution_count": 0,
      "outputs": []
    },
    {
      "cell_type": "code",
      "metadata": {
        "id": "akdy1b5nDVVR",
        "colab_type": "code",
        "colab": {}
      },
      "source": [
        "###Compiling the Model(Choosing our optimizer,our loss function and our metric for perfromance)\n",
        "\n",
        "model.compile(optimizer='adam',loss = 'categorical_crossentropy',metrics=['categorical_accuracy'])"
      ],
      "execution_count": 0,
      "outputs": []
    },
    {
      "cell_type": "code",
      "metadata": {
        "id": "D8Af9JifDecG",
        "colab_type": "code",
        "colab": {}
      },
      "source": [
        "###Hyperparameters\n",
        "\n",
        "epochs = 50\n",
        "batch_size = 128"
      ],
      "execution_count": 0,
      "outputs": []
    },
    {
      "cell_type": "code",
      "metadata": {
        "id": "vtSWZjv9DhKP",
        "colab_type": "code",
        "outputId": "f8d82499-6c2e-45d2-a0a8-49c93d92f5b3",
        "colab": {
          "base_uri": "https://localhost:8080/",
          "height": 1000
        }
      },
      "source": [
        "###Training the model\n",
        "\n",
        "history = model.fit(X_train,Y_train,batch_size=batch_size,epochs=epochs,verbose=1,validation_data=(X_val,Y_val))"
      ],
      "execution_count": 13,
      "outputs": [
        {
          "output_type": "stream",
          "text": [
            "Train on 48000 samples, validate on 12000 samples\n",
            "Epoch 1/50\n",
            "48000/48000 [==============================] - 20s 418us/step - loss: 0.8847 - categorical_accuracy: 0.6653 - val_loss: 0.4970 - val_categorical_accuracy: 0.8078\n",
            "Epoch 2/50\n",
            "48000/48000 [==============================] - 4s 91us/step - loss: 0.4723 - categorical_accuracy: 0.8295 - val_loss: 0.3540 - val_categorical_accuracy: 0.8672\n",
            "Epoch 3/50\n",
            "48000/48000 [==============================] - 4s 91us/step - loss: 0.3875 - categorical_accuracy: 0.8602 - val_loss: 0.3023 - val_categorical_accuracy: 0.8869\n",
            "Epoch 4/50\n",
            "48000/48000 [==============================] - 4s 91us/step - loss: 0.3439 - categorical_accuracy: 0.8761 - val_loss: 0.2792 - val_categorical_accuracy: 0.8938\n",
            "Epoch 5/50\n",
            "48000/48000 [==============================] - 4s 91us/step - loss: 0.3164 - categorical_accuracy: 0.8868 - val_loss: 0.2728 - val_categorical_accuracy: 0.9021\n",
            "Epoch 6/50\n",
            "48000/48000 [==============================] - 4s 91us/step - loss: 0.2978 - categorical_accuracy: 0.8918 - val_loss: 0.2533 - val_categorical_accuracy: 0.9076\n",
            "Epoch 7/50\n",
            "48000/48000 [==============================] - 4s 91us/step - loss: 0.2806 - categorical_accuracy: 0.8980 - val_loss: 0.2649 - val_categorical_accuracy: 0.9056\n",
            "Epoch 8/50\n",
            "48000/48000 [==============================] - 4s 90us/step - loss: 0.2707 - categorical_accuracy: 0.9005 - val_loss: 0.2569 - val_categorical_accuracy: 0.9062\n",
            "Epoch 9/50\n",
            "48000/48000 [==============================] - 4s 91us/step - loss: 0.2600 - categorical_accuracy: 0.9053 - val_loss: 0.2304 - val_categorical_accuracy: 0.9142\n",
            "Epoch 10/50\n",
            "48000/48000 [==============================] - 4s 92us/step - loss: 0.2531 - categorical_accuracy: 0.9083 - val_loss: 0.2332 - val_categorical_accuracy: 0.9143\n",
            "Epoch 11/50\n",
            "48000/48000 [==============================] - 4s 91us/step - loss: 0.2458 - categorical_accuracy: 0.9111 - val_loss: 0.2303 - val_categorical_accuracy: 0.9174\n",
            "Epoch 12/50\n",
            "48000/48000 [==============================] - 4s 90us/step - loss: 0.2369 - categorical_accuracy: 0.9145 - val_loss: 0.2191 - val_categorical_accuracy: 0.9196\n",
            "Epoch 13/50\n",
            "48000/48000 [==============================] - 4s 92us/step - loss: 0.2358 - categorical_accuracy: 0.9141 - val_loss: 0.2257 - val_categorical_accuracy: 0.9176\n",
            "Epoch 14/50\n",
            "48000/48000 [==============================] - 4s 92us/step - loss: 0.2249 - categorical_accuracy: 0.9170 - val_loss: 0.2071 - val_categorical_accuracy: 0.9248\n",
            "Epoch 15/50\n",
            "48000/48000 [==============================] - 4s 91us/step - loss: 0.2232 - categorical_accuracy: 0.9182 - val_loss: 0.2130 - val_categorical_accuracy: 0.9240\n",
            "Epoch 16/50\n",
            "48000/48000 [==============================] - 4s 89us/step - loss: 0.2180 - categorical_accuracy: 0.9210 - val_loss: 0.2081 - val_categorical_accuracy: 0.9253\n",
            "Epoch 17/50\n",
            "48000/48000 [==============================] - 4s 90us/step - loss: 0.2181 - categorical_accuracy: 0.9205 - val_loss: 0.2062 - val_categorical_accuracy: 0.9261\n",
            "Epoch 18/50\n",
            "48000/48000 [==============================] - 4s 91us/step - loss: 0.2131 - categorical_accuracy: 0.9217 - val_loss: 0.2056 - val_categorical_accuracy: 0.9253\n",
            "Epoch 19/50\n",
            "48000/48000 [==============================] - 4s 90us/step - loss: 0.2070 - categorical_accuracy: 0.9239 - val_loss: 0.2033 - val_categorical_accuracy: 0.9237\n",
            "Epoch 20/50\n",
            "48000/48000 [==============================] - 4s 91us/step - loss: 0.2063 - categorical_accuracy: 0.9263 - val_loss: 0.2060 - val_categorical_accuracy: 0.9258\n",
            "Epoch 21/50\n",
            "48000/48000 [==============================] - 4s 89us/step - loss: 0.2017 - categorical_accuracy: 0.9259 - val_loss: 0.1966 - val_categorical_accuracy: 0.9287\n",
            "Epoch 22/50\n",
            "48000/48000 [==============================] - 4s 91us/step - loss: 0.2029 - categorical_accuracy: 0.9259 - val_loss: 0.2032 - val_categorical_accuracy: 0.9266\n",
            "Epoch 23/50\n",
            "48000/48000 [==============================] - 4s 91us/step - loss: 0.1953 - categorical_accuracy: 0.9283 - val_loss: 0.2019 - val_categorical_accuracy: 0.9257\n",
            "Epoch 24/50\n",
            "48000/48000 [==============================] - 4s 90us/step - loss: 0.1964 - categorical_accuracy: 0.9266 - val_loss: 0.2161 - val_categorical_accuracy: 0.9218\n",
            "Epoch 25/50\n",
            "48000/48000 [==============================] - 4s 90us/step - loss: 0.1937 - categorical_accuracy: 0.9288 - val_loss: 0.1998 - val_categorical_accuracy: 0.9283\n",
            "Epoch 26/50\n",
            "48000/48000 [==============================] - 4s 90us/step - loss: 0.1890 - categorical_accuracy: 0.9294 - val_loss: 0.2123 - val_categorical_accuracy: 0.9233\n",
            "Epoch 27/50\n",
            "48000/48000 [==============================] - 4s 91us/step - loss: 0.1892 - categorical_accuracy: 0.9303 - val_loss: 0.1975 - val_categorical_accuracy: 0.9280\n",
            "Epoch 28/50\n",
            "48000/48000 [==============================] - 4s 91us/step - loss: 0.1866 - categorical_accuracy: 0.9306 - val_loss: 0.1985 - val_categorical_accuracy: 0.9319\n",
            "Epoch 29/50\n",
            "48000/48000 [==============================] - 4s 90us/step - loss: 0.1826 - categorical_accuracy: 0.9334 - val_loss: 0.2070 - val_categorical_accuracy: 0.9264\n",
            "Epoch 30/50\n",
            "48000/48000 [==============================] - 4s 89us/step - loss: 0.1773 - categorical_accuracy: 0.9341 - val_loss: 0.2076 - val_categorical_accuracy: 0.9297\n",
            "Epoch 31/50\n",
            "48000/48000 [==============================] - 4s 90us/step - loss: 0.1781 - categorical_accuracy: 0.9340 - val_loss: 0.2008 - val_categorical_accuracy: 0.9277\n",
            "Epoch 32/50\n",
            "48000/48000 [==============================] - 4s 92us/step - loss: 0.1793 - categorical_accuracy: 0.9337 - val_loss: 0.1954 - val_categorical_accuracy: 0.9292\n",
            "Epoch 33/50\n",
            "48000/48000 [==============================] - 4s 90us/step - loss: 0.1763 - categorical_accuracy: 0.9350 - val_loss: 0.2017 - val_categorical_accuracy: 0.9269\n",
            "Epoch 34/50\n",
            "48000/48000 [==============================] - 4s 92us/step - loss: 0.1752 - categorical_accuracy: 0.9352 - val_loss: 0.2005 - val_categorical_accuracy: 0.9282\n",
            "Epoch 35/50\n",
            "48000/48000 [==============================] - 4s 90us/step - loss: 0.1743 - categorical_accuracy: 0.9351 - val_loss: 0.2109 - val_categorical_accuracy: 0.9249\n",
            "Epoch 36/50\n",
            "48000/48000 [==============================] - 4s 92us/step - loss: 0.1726 - categorical_accuracy: 0.9363 - val_loss: 0.2032 - val_categorical_accuracy: 0.9307\n",
            "Epoch 37/50\n",
            "48000/48000 [==============================] - 4s 90us/step - loss: 0.1700 - categorical_accuracy: 0.9362 - val_loss: 0.2000 - val_categorical_accuracy: 0.9304\n",
            "Epoch 38/50\n",
            "48000/48000 [==============================] - 4s 91us/step - loss: 0.1695 - categorical_accuracy: 0.9368 - val_loss: 0.1946 - val_categorical_accuracy: 0.9313\n",
            "Epoch 39/50\n",
            "48000/48000 [==============================] - 4s 91us/step - loss: 0.1690 - categorical_accuracy: 0.9370 - val_loss: 0.2029 - val_categorical_accuracy: 0.9311\n",
            "Epoch 40/50\n",
            "48000/48000 [==============================] - 4s 90us/step - loss: 0.1732 - categorical_accuracy: 0.9364 - val_loss: 0.1998 - val_categorical_accuracy: 0.9303\n",
            "Epoch 41/50\n",
            "48000/48000 [==============================] - 4s 91us/step - loss: 0.1686 - categorical_accuracy: 0.9384 - val_loss: 0.1975 - val_categorical_accuracy: 0.9311\n",
            "Epoch 42/50\n",
            "48000/48000 [==============================] - 4s 90us/step - loss: 0.1675 - categorical_accuracy: 0.9379 - val_loss: 0.1988 - val_categorical_accuracy: 0.9303\n",
            "Epoch 43/50\n",
            "48000/48000 [==============================] - 4s 89us/step - loss: 0.1615 - categorical_accuracy: 0.9404 - val_loss: 0.2015 - val_categorical_accuracy: 0.9310\n",
            "Epoch 44/50\n",
            "48000/48000 [==============================] - 4s 91us/step - loss: 0.1595 - categorical_accuracy: 0.9413 - val_loss: 0.1915 - val_categorical_accuracy: 0.9329\n",
            "Epoch 45/50\n",
            "48000/48000 [==============================] - 4s 90us/step - loss: 0.1598 - categorical_accuracy: 0.9393 - val_loss: 0.2006 - val_categorical_accuracy: 0.9294\n",
            "Epoch 46/50\n",
            "48000/48000 [==============================] - 4s 91us/step - loss: 0.1624 - categorical_accuracy: 0.9406 - val_loss: 0.1979 - val_categorical_accuracy: 0.9323\n",
            "Epoch 47/50\n",
            "48000/48000 [==============================] - 4s 89us/step - loss: 0.1558 - categorical_accuracy: 0.9421 - val_loss: 0.2049 - val_categorical_accuracy: 0.9319\n",
            "Epoch 48/50\n",
            "48000/48000 [==============================] - 4s 91us/step - loss: 0.1582 - categorical_accuracy: 0.9408 - val_loss: 0.2047 - val_categorical_accuracy: 0.9321\n",
            "Epoch 49/50\n",
            "48000/48000 [==============================] - 4s 90us/step - loss: 0.1598 - categorical_accuracy: 0.9410 - val_loss: 0.1959 - val_categorical_accuracy: 0.9335\n",
            "Epoch 50/50\n",
            "48000/48000 [==============================] - 4s 91us/step - loss: 0.1563 - categorical_accuracy: 0.9429 - val_loss: 0.2026 - val_categorical_accuracy: 0.9310\n"
          ],
          "name": "stdout"
        }
      ]
    },
    {
      "cell_type": "code",
      "metadata": {
        "id": "5qx9TsPsDkc3",
        "colab_type": "code",
        "outputId": "1f8c476e-f25f-4e67-9377-84953cef60ce",
        "colab": {
          "base_uri": "https://localhost:8080/",
          "height": 573
        }
      },
      "source": [
        "###Plotting the Results\n",
        "\n",
        "##Accuracy\n",
        "plt.plot(history.history['categorical_accuracy'])\n",
        "plt.plot(history.history['val_categorical_accuracy'])\n",
        "plt.title('Model accuracy')\n",
        "plt.ylabel('Accuracy')\n",
        "plt.xlabel('Epoch')\n",
        "plt.legend(['Train', 'Validation'], loc='upper left')\n",
        "plt.show()\n",
        "\n",
        "##Loss\n",
        "plt.plot(history.history['loss'])\n",
        "plt.plot(history.history['val_loss'])\n",
        "plt.title('Model loss')\n",
        "plt.ylabel('Loss')\n",
        "plt.xlabel('Epoch')\n",
        "plt.legend(['Train', 'Validation'], loc='upper left')\n",
        "plt.show()"
      ],
      "execution_count": 14,
      "outputs": [
        {
          "output_type": "display_data",
          "data": {
            "image/png": "[encoded data removed]",
            "text/plain": [
              "<Figure size 432x288 with 1 Axes>"
            ]
          },
          "metadata": {
            "tags": []
          }
        },
        {
          "output_type": "display_data",
          "data": {
            "image/png": "[encoded data removed]",
            "text/plain": [
              "<Figure size 432x288 with 1 Axes>"
            ]
          },
          "metadata": {
            "tags": []
          }
        }
      ]
    },
    {
      "cell_type": "code",
      "metadata": {
        "id": "Tx27-Md8FV3v",
        "colab_type": "code",
        "outputId": "5c8e1bc9-011d-4e59-c9f0-8841dec3aa5b",
        "colab": {
          "base_uri": "https://localhost:8080/",
          "height": 52
        }
      },
      "source": [
        "###Performance on the Test Set\n",
        "\n",
        "results = model.evaluate(X_test, Y_test, batch_size=batch_size)\n",
        "print('test loss, test acc:', results)"
      ],
      "execution_count": 15,
      "outputs": [
        {
          "output_type": "stream",
          "text": [
            "10000/10000 [==============================] - 0s 34us/step\n",
            "test loss, test acc: [0.23358430321216583, 0.9252]\n"
          ],
          "name": "stdout"
        }
      ]
    },
    {
      "cell_type": "code",
      "metadata": {
        "id": "0tqU_9ga8zjy",
        "colab_type": "code",
        "outputId": "93eb6f29-2ca8-409a-d646-81ea481678d7",
        "colab": {
          "base_uri": "https://localhost:8080/",
          "height": 1000
        }
      },
      "source": [
        "###Checking out the Wrong Predictions\n",
        "\n",
        "predictions = model.predict(X_test)\n",
        "wrong_predictions = list()\n",
        "\n",
        "for ind in range(len(predictions)):\n",
        "  if np.argmax(predictions[ind,:,]) != np.argmax(Y_test[ind,:]):\n",
        "    wrong_predictions.append(ind)\n",
        "\n",
        "for ind in wrong_predictions[:5]:\n",
        "  img = X_test_orig[ind]\n",
        "  label = np.argmax(Y_test[ind])\n",
        "  prediction = np.argmax(predictions[ind])\n",
        "\n",
        "  print('Actual:',label_dict[label])\n",
        "  print('Prediction:',label_dict[prediction])\n",
        "  plt.imshow(img,cmap='Greys')\n",
        "  plt.show()"
      ],
      "execution_count": 16,
      "outputs": [
        {
          "output_type": "stream",
          "text": [
            "Actual: Sneaker\n",
            "Prediction: Sandal\n"
          ],
          "name": "stdout"
        },
        {
          "output_type": "display_data",
          "data": {
            "image/png": "[encoded data removed]",
            "text/plain": [
              "<Figure size 432x288 with 1 Axes>"
            ]
          },
          "metadata": {
            "tags": []
          }
        },
        {
          "output_type": "stream",
          "text": [
            "Actual: Ankle boot\n",
            "Prediction: Sandal\n"
          ],
          "name": "stdout"
        },
        {
          "output_type": "display_data",
          "data": {
            "image/png": "[encoded data removed]",
            "text/plain": [
              "<Figure size 432x288 with 1 Axes>"
            ]
          },
          "metadata": {
            "tags": []
          }
        },
        {
          "output_type": "stream",
          "text": [
            "Actual: Coat\n",
            "Prediction: Pullover\n"
          ],
          "name": "stdout"
        },
        {
          "output_type": "display_data",
          "data": {
            "image/png": "[encoded data removed]",
            "text/plain": [
              "<Figure size 432x288 with 1 Axes>"
            ]
          },
          "metadata": {
            "tags": []
          }
        },
        {
          "output_type": "stream",
          "text": [
            "Actual: Shirt\n",
            "Prediction: T-shirt/top\n"
          ],
          "name": "stdout"
        },
        {
          "output_type": "display_data",
          "data": {
            "image/png": "[encoded data removed]",
            "text/plain": [
              "<Figure size 432x288 with 1 Axes>"
            ]
          },
          "metadata": {
            "tags": []
          }
        },
        {
          "output_type": "stream",
          "text": [
            "Actual: Dress\n",
            "Prediction: Shirt\n"
          ],
          "name": "stdout"
        },
        {
          "output_type": "display_data",
          "data": {
            "image/png": "[encoded data removed]",
            "text/plain": [
              "<Figure size 432x288 with 1 Axes>"
            ]
          },
          "metadata": {
            "tags": []
          }
        }
      ]
    }
  ]
}