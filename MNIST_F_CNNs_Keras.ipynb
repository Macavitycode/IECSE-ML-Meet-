{
  "nbformat": 4,
  "nbformat_minor": 0,
  "metadata": {
    "colab": {
      "name": "MNIST_F_CNNs_Keras.ipynb",
      "provenance": [],
      "collapsed_sections": []
    },
    "kernelspec": {
      "name": "python3",
      "display_name": "Python 3"
    },
    "accelerator": "GPU"
  },
  "cells": [
    {
      "cell_type": "code",
      "metadata": {
        "id": "aYNeVh4MAiwO",
        "colab_type": "code",
        "colab": {}
      },
      "source": [
        "###Importing the Required Libraries\n",
        "\n",
        "import numpy as np\n",
        "import pandas as pd\n",
        "import matplotlib.pyplot as plt\n",
        "import keras\n",
        "\n",
        "from keras.layers import Dense,Dropout,Conv2D,MaxPooling2D,Flatten\n",
        "from keras.models import Sequential"
      ],
      "execution_count": 0,
      "outputs": []
    },
    {
      "cell_type": "code",
      "metadata": {
        "id": "OQrEwvKvBA6q",
        "colab_type": "code",
        "outputId": "e30bebec-ca94-4154-fae5-4b85f952fcfd",
        "colab": {
          "base_uri": "https://localhost:8080/",
          "height": 156
        }
      },
      "source": [
        "###Importing the Dataset from Keras\n",
        "\n",
        "from keras.datasets.fashion_mnist import load_data\n",
        "\n",
        "(X_train_orig,Y_train_orig),(X_test_orig,Y_test_orig) = load_data()"
      ],
      "execution_count": 0,
      "outputs": [
        {
          "output_type": "stream",
          "text": [
            "Downloading data from http://fashion-mnist.s3-website.eu-central-1.amazonaws.com/train-labels-idx1-ubyte.gz\n",
            "32768/29515 [=================================] - 0s 9us/step\n",
            "Downloading data from http://fashion-mnist.s3-website.eu-central-1.amazonaws.com/train-images-idx3-ubyte.gz\n",
            "26427392/26421880 [==============================] - 4s 0us/step\n",
            "Downloading data from http://fashion-mnist.s3-website.eu-central-1.amazonaws.com/t10k-labels-idx1-ubyte.gz\n",
            "8192/5148 [===============================================] - 0s 0us/step\n",
            "Downloading data from http://fashion-mnist.s3-website.eu-central-1.amazonaws.com/t10k-images-idx3-ubyte.gz\n",
            "4423680/4422102 [==============================] - 2s 1us/step\n"
          ],
          "name": "stdout"
        }
      ]
    },
    {
      "cell_type": "code",
      "metadata": {
        "id": "NW1N0vWrBQK_",
        "colab_type": "code",
        "colab": {}
      },
      "source": [
        "###Label Dictionary\n",
        "\n",
        "label_dict = {0:'T-shirt/top',\n",
        "              1:'Trouser',\n",
        "              2:'Pullover',\n",
        "              3:'Dress',\n",
        "              4:'Coat',\n",
        "              5:'Sandal',\n",
        "              6:'Shirt',\n",
        "              7:'Sneaker',\n",
        "              8:'Bag',\n",
        "              9:'Ankle boot'\n",
        "}"
      ],
      "execution_count": 0,
      "outputs": []
    },
    {
      "cell_type": "code",
      "metadata": {
        "id": "LHLbmtxHBSUO",
        "colab_type": "code",
        "outputId": "317cff7f-1ed3-4584-a06f-cd7f0cc113fe",
        "colab": {
          "base_uri": "https://localhost:8080/",
          "height": 87
        }
      },
      "source": [
        "###Overview of the Imported Data\n",
        "\n",
        "print(\"X_train Original Shape:\",X_train_orig.shape)\n",
        "print(\"Y_train Original Shape:\",Y_train_orig.shape)\n",
        "print(\"X_test Original Shape:\",X_test_orig.shape)\n",
        "print(\"Y_test Original Shape:\",Y_test_orig.shape)"
      ],
      "execution_count": 0,
      "outputs": [
        {
          "output_type": "stream",
          "text": [
            "X_train Original Shape: (60000, 28, 28)\n",
            "Y_train Original Shape: (60000,)\n",
            "X_test Original Shape: (10000, 28, 28)\n",
            "Y_test Original Shape: (10000,)\n"
          ],
          "name": "stdout"
        }
      ]
    },
    {
      "cell_type": "code",
      "metadata": {
        "id": "7z2NO3NoBXoq",
        "colab_type": "code",
        "outputId": "610b296a-200d-49cf-b7b5-0edd701dd53c",
        "colab": {
          "base_uri": "https://localhost:8080/",
          "height": 300
        }
      },
      "source": [
        "###Visualizing a Training Example\n",
        "\n",
        "img_index = 2323 #Random Training Example\n",
        "img = X_train_orig[img_index]\n",
        "label = Y_train_orig[img_index]\n",
        "\n",
        "print(label_dict[label])\n",
        "plt.imshow(img,cmap='Greys')"
      ],
      "execution_count": 0,
      "outputs": [
        {
          "output_type": "stream",
          "text": [
            "Sandal\n"
          ],
          "name": "stdout"
        },
        {
          "output_type": "execute_result",
          "data": {
            "text/plain": [
              "<matplotlib.image.AxesImage at 0x7f8e7cf80f98>"
            ]
          },
          "metadata": {
            "tags": []
          },
          "execution_count": 7
        },
        {
          "output_type": "display_data",
          "data": {
            "image/png": "[encoded data removed]",
            "text/plain": [
              "<Figure size 432x288 with 1 Axes>"
            ]
          },
          "metadata": {
            "tags": []
          }
        }
      ]
    },
    {
      "cell_type": "code",
      "metadata": {
        "id": "xYmZM7VQBbBj",
        "colab_type": "code",
        "colab": {}
      },
      "source": [
        "###Preprocessing the Data\n",
        "\n",
        "##Reshaping the X arrays\n",
        "X_train = X_train_orig.reshape(X_train_orig.shape[0],28,28,1)\n",
        "X_test = X_test_orig.reshape(X_test_orig.shape[0],28,28,1)\n",
        "\n",
        "##Normalizing the Data\n",
        "X_train = X_train/255\n",
        "X_test = X_test/255"
      ],
      "execution_count": 0,
      "outputs": []
    },
    {
      "cell_type": "code",
      "metadata": {
        "id": "Qm1RqzaMCG7Y",
        "colab_type": "code",
        "colab": {}
      },
      "source": [
        "##One Hot encoding\n",
        "\n",
        "Y_train = keras.utils.to_categorical(Y_train_orig,10)\n",
        "Y_test = keras.utils.to_categorical(Y_test_orig,10)"
      ],
      "execution_count": 0,
      "outputs": []
    },
    {
      "cell_type": "code",
      "metadata": {
        "id": "cqQ3QrI7CUca",
        "colab_type": "code",
        "outputId": "ca6d6483-9fb0-4eb4-8ea1-48dc8c0534e2",
        "colab": {
          "base_uri": "https://localhost:8080/",
          "height": 87
        }
      },
      "source": [
        "###Overview of Processed Data\n",
        "\n",
        "print('X_train Shape:',X_train.shape)\n",
        "print('Y_train Shape:',Y_train.shape)\n",
        "print('X_test Shape:',X_test.shape)\n",
        "print('Y_test Shape:',Y_test.shape)"
      ],
      "execution_count": 0,
      "outputs": [
        {
          "output_type": "stream",
          "text": [
            "X_train Shape: (60000, 28, 28, 1)\n",
            "Y_train Shape: (60000, 10)\n",
            "X_test Shape: (10000, 28, 28, 1)\n",
            "Y_test Shape: (10000, 10)\n"
          ],
          "name": "stdout"
        }
      ]
    },
    {
      "cell_type": "code",
      "metadata": {
        "id": "9qNP4hkDCXFK",
        "colab_type": "code",
        "colab": {}
      },
      "source": [
        "###Creating a Model\n",
        "input_shape = (28,28,1) #Defining the input shape\n",
        "\n",
        "model = Sequential() #Allowing the us to make the model, layer by layer.\n",
        "\n",
        "model.add(Conv2D(32,(3,3),padding='SAME',activation='relu',input_shape = input_shape))\n",
        "model.add(MaxPooling2D(pool_size=(2,2),strides=(2,2),padding='SAME'))\n",
        "model.add(Dropout(0.2))\n",
        "\n",
        "model.add(Conv2D(64,(3,3),padding='SAME',activation='relu'))\n",
        "model.add(MaxPooling2D(pool_size=(2,2),strides=(2,2),padding='SAME'))\n",
        "model.add(Dropout(0.2))\n",
        "\n",
        "model.add(Conv2D(128,(3,3),padding='SAME',activation='relu'))\n",
        "model.add(MaxPooling2D(pool_size=(2,2),strides=(2,2),padding='SAME'))\n",
        "model.add(Dropout(0.3))\n",
        "\n",
        "model.add(Conv2D(256,(3,3),padding='SAME',activation='relu'))\n",
        "model.add(MaxPooling2D(pool_size=(2,2),strides=(2,2),padding='SAME'))\n",
        "model.add(Dropout(0.3))\n",
        "model.add(Flatten())\n",
        "\n",
        "model.add(Dense(256,activation='relu'))\n",
        "model.add(Dropout(0.4))\n",
        "\n",
        "model.add(Dense(128,activation='relu'))\n",
        "model.add(Dropout(0.4))\n",
        "\n",
        "model.add(Dense(10,activation='softmax'))"
      ],
      "execution_count": 0,
      "outputs": []
    },
    {
      "cell_type": "code",
      "metadata": {
        "id": "akdy1b5nDVVR",
        "colab_type": "code",
        "colab": {}
      },
      "source": [
        "###Compiling the Model(Choosing our optimizer,our loss function and our metric for perfromance)\n",
        "\n",
        "model.compile(optimizer='adam',loss = 'categorical_crossentropy',metrics=['categorical_accuracy'])"
      ],
      "execution_count": 0,
      "outputs": []
    },
    {
      "cell_type": "code",
      "metadata": {
        "id": "D8Af9JifDecG",
        "colab_type": "code",
        "colab": {}
      },
      "source": [
        "###Hyperparameters\n",
        "\n",
        "epochs = 50\n",
        "batch_size = 64"
      ],
      "execution_count": 0,
      "outputs": []
    },
    {
      "cell_type": "code",
      "metadata": {
        "id": "vtSWZjv9DhKP",
        "colab_type": "code",
        "outputId": "36ea0d33-64a7-4d32-8392-64a29ae8f7c2",
        "colab": {
          "base_uri": "https://localhost:8080/",
          "height": 1000
        }
      },
      "source": [
        "###Training the model\n",
        "\n",
        "history = model.fit(X_train,Y_train,batch_size=batch_size,epochs=epochs,verbose=1,validation_data=(X_test,Y_test))"
      ],
      "execution_count": 0,
      "outputs": [
        {
          "output_type": "stream",
          "text": [
            "Train on 60000 samples, validate on 10000 samples\n",
            "Epoch 1/50\n",
            "60000/60000 [==============================] - 8s 127us/step - loss: 0.7058 - categorical_accuracy: 0.7376 - val_loss: 0.3734 - val_categorical_accuracy: 0.8599\n",
            "Epoch 2/50\n",
            "60000/60000 [==============================] - 7s 115us/step - loss: 0.3963 - categorical_accuracy: 0.8589 - val_loss: 0.3192 - val_categorical_accuracy: 0.8817\n",
            "Epoch 3/50\n",
            "60000/60000 [==============================] - 7s 119us/step - loss: 0.3439 - categorical_accuracy: 0.8766 - val_loss: 0.2971 - val_categorical_accuracy: 0.8906\n",
            "Epoch 4/50\n",
            "60000/60000 [==============================] - 7s 116us/step - loss: 0.3163 - categorical_accuracy: 0.8851 - val_loss: 0.2791 - val_categorical_accuracy: 0.8972\n",
            "Epoch 5/50\n",
            "60000/60000 [==============================] - 7s 115us/step - loss: 0.2928 - categorical_accuracy: 0.8945 - val_loss: 0.2670 - val_categorical_accuracy: 0.9009\n",
            "Epoch 6/50\n",
            "60000/60000 [==============================] - 7s 113us/step - loss: 0.2832 - categorical_accuracy: 0.8987 - val_loss: 0.2618 - val_categorical_accuracy: 0.9061\n",
            "Epoch 7/50\n",
            "60000/60000 [==============================] - 7s 115us/step - loss: 0.2712 - categorical_accuracy: 0.9033 - val_loss: 0.2466 - val_categorical_accuracy: 0.9098\n",
            "Epoch 8/50\n",
            "60000/60000 [==============================] - 7s 114us/step - loss: 0.2643 - categorical_accuracy: 0.9047 - val_loss: 0.2426 - val_categorical_accuracy: 0.9131\n",
            "Epoch 9/50\n",
            "60000/60000 [==============================] - 7s 116us/step - loss: 0.2560 - categorical_accuracy: 0.9070 - val_loss: 0.2436 - val_categorical_accuracy: 0.9121\n",
            "Epoch 10/50\n",
            "60000/60000 [==============================] - 7s 115us/step - loss: 0.2493 - categorical_accuracy: 0.9084 - val_loss: 0.2351 - val_categorical_accuracy: 0.9160\n",
            "Epoch 11/50\n",
            "60000/60000 [==============================] - 7s 116us/step - loss: 0.2440 - categorical_accuracy: 0.9121 - val_loss: 0.2401 - val_categorical_accuracy: 0.9124\n",
            "Epoch 12/50\n",
            "60000/60000 [==============================] - 7s 115us/step - loss: 0.2403 - categorical_accuracy: 0.9130 - val_loss: 0.2346 - val_categorical_accuracy: 0.9164\n",
            "Epoch 13/50\n",
            "60000/60000 [==============================] - 7s 115us/step - loss: 0.2357 - categorical_accuracy: 0.9142 - val_loss: 0.2260 - val_categorical_accuracy: 0.9172\n",
            "Epoch 14/50\n",
            "60000/60000 [==============================] - 7s 114us/step - loss: 0.2327 - categorical_accuracy: 0.9158 - val_loss: 0.2347 - val_categorical_accuracy: 0.9166\n",
            "Epoch 15/50\n",
            "60000/60000 [==============================] - 7s 113us/step - loss: 0.2304 - categorical_accuracy: 0.9157 - val_loss: 0.2248 - val_categorical_accuracy: 0.9196\n",
            "Epoch 16/50\n",
            "60000/60000 [==============================] - 7s 115us/step - loss: 0.2231 - categorical_accuracy: 0.9184 - val_loss: 0.2302 - val_categorical_accuracy: 0.9190\n",
            "Epoch 17/50\n",
            "60000/60000 [==============================] - 7s 117us/step - loss: 0.2263 - categorical_accuracy: 0.9184 - val_loss: 0.2341 - val_categorical_accuracy: 0.9163\n",
            "Epoch 18/50\n",
            "60000/60000 [==============================] - 7s 116us/step - loss: 0.2192 - categorical_accuracy: 0.9211 - val_loss: 0.2369 - val_categorical_accuracy: 0.9196\n",
            "Epoch 19/50\n",
            "60000/60000 [==============================] - 7s 114us/step - loss: 0.2172 - categorical_accuracy: 0.9200 - val_loss: 0.2196 - val_categorical_accuracy: 0.9197\n",
            "Epoch 20/50\n",
            "60000/60000 [==============================] - 7s 116us/step - loss: 0.2176 - categorical_accuracy: 0.9210 - val_loss: 0.2266 - val_categorical_accuracy: 0.9180\n",
            "Epoch 21/50\n",
            "60000/60000 [==============================] - 7s 116us/step - loss: 0.2165 - categorical_accuracy: 0.9221 - val_loss: 0.2366 - val_categorical_accuracy: 0.9168\n",
            "Epoch 22/50\n",
            "60000/60000 [==============================] - 7s 114us/step - loss: 0.2133 - categorical_accuracy: 0.9223 - val_loss: 0.2196 - val_categorical_accuracy: 0.9182\n",
            "Epoch 23/50\n",
            "60000/60000 [==============================] - 7s 113us/step - loss: 0.2080 - categorical_accuracy: 0.9244 - val_loss: 0.2255 - val_categorical_accuracy: 0.9225\n",
            "Epoch 24/50\n",
            "60000/60000 [==============================] - 7s 113us/step - loss: 0.2115 - categorical_accuracy: 0.9231 - val_loss: 0.2285 - val_categorical_accuracy: 0.9226\n",
            "Epoch 25/50\n",
            "60000/60000 [==============================] - 7s 114us/step - loss: 0.2089 - categorical_accuracy: 0.9249 - val_loss: 0.2181 - val_categorical_accuracy: 0.9196\n",
            "Epoch 26/50\n",
            "60000/60000 [==============================] - 7s 116us/step - loss: 0.2081 - categorical_accuracy: 0.9246 - val_loss: 0.2190 - val_categorical_accuracy: 0.9208\n",
            "Epoch 27/50\n",
            "60000/60000 [==============================] - 7s 113us/step - loss: 0.2069 - categorical_accuracy: 0.9258 - val_loss: 0.2216 - val_categorical_accuracy: 0.9237\n",
            "Epoch 28/50\n",
            "60000/60000 [==============================] - 7s 116us/step - loss: 0.2061 - categorical_accuracy: 0.9255 - val_loss: 0.2177 - val_categorical_accuracy: 0.9237\n",
            "Epoch 29/50\n",
            "60000/60000 [==============================] - 7s 114us/step - loss: 0.2048 - categorical_accuracy: 0.9260 - val_loss: 0.2235 - val_categorical_accuracy: 0.9204\n",
            "Epoch 30/50\n",
            "60000/60000 [==============================] - 7s 116us/step - loss: 0.2036 - categorical_accuracy: 0.9258 - val_loss: 0.2189 - val_categorical_accuracy: 0.9258\n",
            "Epoch 31/50\n",
            "60000/60000 [==============================] - 7s 114us/step - loss: 0.2045 - categorical_accuracy: 0.9258 - val_loss: 0.2168 - val_categorical_accuracy: 0.9225\n",
            "Epoch 32/50\n",
            "60000/60000 [==============================] - 7s 114us/step - loss: 0.2012 - categorical_accuracy: 0.9280 - val_loss: 0.2170 - val_categorical_accuracy: 0.9236\n",
            "Epoch 33/50\n",
            "60000/60000 [==============================] - 7s 114us/step - loss: 0.1957 - categorical_accuracy: 0.9281 - val_loss: 0.2236 - val_categorical_accuracy: 0.9202\n",
            "Epoch 34/50\n",
            "60000/60000 [==============================] - 7s 114us/step - loss: 0.2012 - categorical_accuracy: 0.9270 - val_loss: 0.2130 - val_categorical_accuracy: 0.9224\n",
            "Epoch 35/50\n",
            "60000/60000 [==============================] - 7s 115us/step - loss: 0.2011 - categorical_accuracy: 0.9279 - val_loss: 0.2183 - val_categorical_accuracy: 0.9242\n",
            "Epoch 36/50\n",
            "60000/60000 [==============================] - 7s 114us/step - loss: 0.1958 - categorical_accuracy: 0.9289 - val_loss: 0.2143 - val_categorical_accuracy: 0.9242\n",
            "Epoch 37/50\n",
            "60000/60000 [==============================] - 7s 114us/step - loss: 0.1989 - categorical_accuracy: 0.9284 - val_loss: 0.2314 - val_categorical_accuracy: 0.9229\n",
            "Epoch 38/50\n",
            "60000/60000 [==============================] - 7s 113us/step - loss: 0.1989 - categorical_accuracy: 0.9287 - val_loss: 0.2113 - val_categorical_accuracy: 0.9274\n",
            "Epoch 39/50\n",
            "60000/60000 [==============================] - 7s 116us/step - loss: 0.1976 - categorical_accuracy: 0.9294 - val_loss: 0.2242 - val_categorical_accuracy: 0.9253\n",
            "Epoch 40/50\n",
            "60000/60000 [==============================] - 7s 115us/step - loss: 0.1981 - categorical_accuracy: 0.9302 - val_loss: 0.2174 - val_categorical_accuracy: 0.9252\n",
            "Epoch 41/50\n",
            "60000/60000 [==============================] - 7s 113us/step - loss: 0.1961 - categorical_accuracy: 0.9290 - val_loss: 0.2363 - val_categorical_accuracy: 0.9183\n",
            "Epoch 42/50\n",
            "60000/60000 [==============================] - 7s 115us/step - loss: 0.1938 - categorical_accuracy: 0.9314 - val_loss: 0.2242 - val_categorical_accuracy: 0.9225\n",
            "Epoch 43/50\n",
            "60000/60000 [==============================] - 7s 116us/step - loss: 0.1977 - categorical_accuracy: 0.9292 - val_loss: 0.2229 - val_categorical_accuracy: 0.9241\n",
            "Epoch 44/50\n",
            "60000/60000 [==============================] - 7s 117us/step - loss: 0.1944 - categorical_accuracy: 0.9302 - val_loss: 0.2211 - val_categorical_accuracy: 0.9232\n",
            "Epoch 45/50\n",
            "60000/60000 [==============================] - 7s 115us/step - loss: 0.1942 - categorical_accuracy: 0.9305 - val_loss: 0.2322 - val_categorical_accuracy: 0.9212\n",
            "Epoch 46/50\n",
            "60000/60000 [==============================] - 7s 116us/step - loss: 0.1927 - categorical_accuracy: 0.9306 - val_loss: 0.2149 - val_categorical_accuracy: 0.9264\n",
            "Epoch 47/50\n",
            "60000/60000 [==============================] - 7s 115us/step - loss: 0.1909 - categorical_accuracy: 0.9315 - val_loss: 0.2261 - val_categorical_accuracy: 0.9242\n",
            "Epoch 48/50\n",
            "60000/60000 [==============================] - 7s 117us/step - loss: 0.1946 - categorical_accuracy: 0.9304 - val_loss: 0.2214 - val_categorical_accuracy: 0.9234\n",
            "Epoch 49/50\n",
            "60000/60000 [==============================] - 7s 116us/step - loss: 0.1934 - categorical_accuracy: 0.9317 - val_loss: 0.2174 - val_categorical_accuracy: 0.9231\n",
            "Epoch 50/50\n",
            "60000/60000 [==============================] - 7s 115us/step - loss: 0.1908 - categorical_accuracy: 0.9318 - val_loss: 0.2223 - val_categorical_accuracy: 0.9250\n"
          ],
          "name": "stdout"
        }
      ]
    },
    {
      "cell_type": "code",
      "metadata": {
        "id": "5qx9TsPsDkc3",
        "colab_type": "code",
        "outputId": "9f0f2d5d-a7cc-47ba-db9c-3aed0e4c013a",
        "colab": {
          "base_uri": "https://localhost:8080/",
          "height": 573
        }
      },
      "source": [
        "###Plotting the Results\n",
        "\n",
        "##Accuracy\n",
        "plt.plot(history.history['categorical_accuracy'])\n",
        "plt.plot(history.history['val_categorical_accuracy'])\n",
        "plt.title('Model accuracy')\n",
        "plt.ylabel('Accuracy')\n",
        "plt.xlabel('Epoch')\n",
        "plt.legend(['Train', 'Validation'], loc='upper left')\n",
        "plt.show()\n",
        "\n",
        "##Loss\n",
        "plt.plot(history.history['loss'])\n",
        "plt.plot(history.history['val_loss'])\n",
        "plt.title('Model loss')\n",
        "plt.ylabel('Loss')\n",
        "plt.xlabel('Epoch')\n",
        "plt.legend(['Train', 'Validation'], loc='upper left')\n",
        "plt.show()"
      ],
      "execution_count": 0,
      "outputs": [
        {
          "output_type": "display_data",
          "data": {
            "image/png": "[encoded data removed]",
            "text/plain": [
              "<Figure size 432x288 with 1 Axes>"
            ]
          },
          "metadata": {
            "tags": []
          }
        },
        {
          "output_type": "display_data",
          "data": {
            "image/png": "[encoded data removed]",
            "text/plain": [
              "<Figure size 432x288 with 1 Axes>"
            ]
          },
          "metadata": {
            "tags": []
          }
        }
      ]
    },
    {
      "cell_type": "code",
      "metadata": {
        "id": "Tx27-Md8FV3v",
        "colab_type": "code",
        "colab": {}
      },
      "source": [
        ""
      ],
      "execution_count": 0,
      "outputs": []
    }
  ]
}