{
  "nbformat": 4,
  "nbformat_minor": 0,
  "metadata": {
    "colab": {
      "name": "MNIST_F_ANNs_Keras.ipynb",
      "provenance": [],
      "collapsed_sections": [],
      "authorship_tag": "ABX9TyMogdf7jOfPZnWZgCnBi8qU",
      "include_colab_link": true
    },
    "kernelspec": {
      "name": "python3",
      "display_name": "Python 3"
    },
    "accelerator": "GPU"
  },
  "cells": [
    {
      "cell_type": "markdown",
      "metadata": {
        "id": "view-in-github",
        "colab_type": "text"
      },
      "source": [
        "<a href=\"https://colab.research.google.com/github/whopriyam/IECSE-ML-Meet-/blob/master/MNIST_F_ANNs_Keras.ipynb\" target=\"_parent\"><img src=\"https://colab.research.google.com/assets/colab-badge.svg\" alt=\"Open In Colab\"/></a>"
      ]
    },
    {
      "cell_type": "code",
      "metadata": {
        "id": "mEcgE3bLxOwN",
        "colab_type": "code",
        "outputId": "1fca03a4-318c-4e1e-afd7-4e550ede912a",
        "colab": {
          "base_uri": "https://localhost:8080/",
          "height": 81
        }
      },
      "source": [
        "###Importing the Required Libraries\n",
        "\n",
        "import numpy as np\n",
        "import matplotlib.pyplot as plt\n",
        "import keras\n",
        "\n",
        "from keras.models import Sequential\n",
        "from keras.layers import Dense,Dropout"
      ],
      "execution_count": 0,
      "outputs": [
        {
          "output_type": "stream",
          "text": [
            "Using TensorFlow backend.\n"
          ],
          "name": "stderr"
        },
        {
          "output_type": "display_data",
          "data": {
            "text/html": [
              "<p style=\"color: red;\">\n",
              "The default version of TensorFlow in Colab will soon switch to TensorFlow 2.x.<br>\n",
              "We recommend you <a href=\"https://www.tensorflow.org/guide/migrate\" target=\"_blank\">upgrade</a> now \n",
              "or ensure your notebook will continue to use TensorFlow 1.x via the <code>%tensorflow_version 1.x</code> magic:\n",
              "<a href=\"https://colab.research.google.com/notebooks/tensorflow_version.ipynb\" target=\"_blank\">more info</a>.</p>\n"
            ],
            "text/plain": [
              "<IPython.core.display.HTML object>"
            ]
          },
          "metadata": {
            "tags": []
          }
        }
      ]
    },
    {
      "cell_type": "code",
      "metadata": {
        "id": "0OqHSwDkyOkL",
        "colab_type": "code",
        "outputId": "a883c9b9-5eda-41d9-b6fa-ede273f03598",
        "colab": {
          "base_uri": "https://localhost:8080/",
          "height": 156
        }
      },
      "source": [
        "###Importing the Dataset from Keras\n",
        "\n",
        "from keras.datasets.fashion_mnist import load_data\n",
        "\n",
        "(X_train_orig,Y_train_orig),(X_test_orig,Y_test_orig) = load_data()"
      ],
      "execution_count": 0,
      "outputs": [
        {
          "output_type": "stream",
          "text": [
            "Downloading data from http://fashion-mnist.s3-website.eu-central-1.amazonaws.com/train-labels-idx1-ubyte.gz\n",
            "32768/29515 [=================================] - 0s 3us/step\n",
            "Downloading data from http://fashion-mnist.s3-website.eu-central-1.amazonaws.com/train-images-idx3-ubyte.gz\n",
            "26427392/26421880 [==============================] - 2s 0us/step\n",
            "Downloading data from http://fashion-mnist.s3-website.eu-central-1.amazonaws.com/t10k-labels-idx1-ubyte.gz\n",
            "8192/5148 [===============================================] - 0s 0us/step\n",
            "Downloading data from http://fashion-mnist.s3-website.eu-central-1.amazonaws.com/t10k-images-idx3-ubyte.gz\n",
            "4423680/4422102 [==============================] - 1s 0us/step\n"
          ],
          "name": "stdout"
        }
      ]
    },
    {
      "cell_type": "code",
      "metadata": {
        "id": "JVrWj5L3yzfq",
        "colab_type": "code",
        "colab": {}
      },
      "source": [
        "###Label Dictionary\n",
        "\n",
        "label_dict = {0:'T-shirt/top',\n",
        "              1:'Trouser',\n",
        "              2:'Pullover',\n",
        "              3:'Dress',\n",
        "              4:'Coat',\n",
        "              5:'Sandal',\n",
        "              6:'Shirt',\n",
        "              7:'Sneaker',\n",
        "              8:'Bag',\n",
        "              9:'Ankle boot'\n",
        "}"
      ],
      "execution_count": 0,
      "outputs": []
    },
    {
      "cell_type": "code",
      "metadata": {
        "id": "k1shd-xnyflZ",
        "colab_type": "code",
        "outputId": "03a0d54e-ce40-46e5-c76b-c2bd739c5b00",
        "colab": {
          "base_uri": "https://localhost:8080/",
          "height": 87
        }
      },
      "source": [
        "###Overview of the Imported Data\n",
        "\n",
        "print(\"X_train Original Shape:\",X_train_orig.shape)\n",
        "print(\"Y_train Original Shape:\",Y_train_orig.shape)\n",
        "print(\"X_test Original Shape:\",X_test_orig.shape)\n",
        "print(\"Y_test Original Shape:\",Y_test_orig.shape)"
      ],
      "execution_count": 0,
      "outputs": [
        {
          "output_type": "stream",
          "text": [
            "X_train Original Shape: (60000, 28, 28)\n",
            "Y_train Original Shape: (60000,)\n",
            "X_test Original Shape: (10000, 28, 28)\n",
            "Y_test Original Shape: (10000,)\n"
          ],
          "name": "stdout"
        }
      ]
    },
    {
      "cell_type": "code",
      "metadata": {
        "id": "8AiX3nVTzXA0",
        "colab_type": "code",
        "outputId": "617b6ff7-46f5-4c66-b7cc-a7c97b6fc7e1",
        "colab": {
          "base_uri": "https://localhost:8080/",
          "height": 300
        }
      },
      "source": [
        "###Visualizing a Training Example\n",
        "\n",
        "img_index = 2323 #Random Training Example\n",
        "img = X_train_orig[img_index]\n",
        "label = Y_train_orig[img_index]\n",
        "\n",
        "print(label_dict[label])\n",
        "plt.imshow(img,cmap='Greys')"
      ],
      "execution_count": 0,
      "outputs": [
        {
          "output_type": "stream",
          "text": [
            "Sandal\n"
          ],
          "name": "stdout"
        },
        {
          "output_type": "execute_result",
          "data": {
            "text/plain": [
              "<matplotlib.image.AxesImage at 0x7f1edd7aea58>"
            ]
          },
          "metadata": {
            "tags": []
          },
          "execution_count": 5
        },
        {
          "output_type": "display_data",
          "data": {
            "image/png": "[encoded data removed]",
            "text/plain": [
              "<Figure size 432x288 with 1 Axes>"
            ]
          },
          "metadata": {
            "tags": []
          }
        }
      ]
    },
    {
      "cell_type": "code",
      "metadata": {
        "id": "qCPTBY53zbWh",
        "colab_type": "code",
        "outputId": "6d913ba4-cb7e-4e68-8ad1-c97bc09cf556",
        "colab": {
          "base_uri": "https://localhost:8080/",
          "height": 52
        }
      },
      "source": [
        "###Preprocessing the Data\n",
        "\n",
        "##Flattening the X Arrays(Converting the Images into a Vector)\n",
        "X_train_flatten = X_train_orig.reshape(X_train_orig.shape[0],-1)\n",
        "X_test_flatten = X_test_orig.reshape(X_test_orig.shape[0],-1)\n",
        "\n",
        "##Printing the the Shapes of X Arrays after flattening\n",
        "\n",
        "print(\"X_train Flattened Shape:\",X_train_flatten.shape)\n",
        "print(\"X_test Flattened Shape:\",X_test_flatten.shape)"
      ],
      "execution_count": 0,
      "outputs": [
        {
          "output_type": "stream",
          "text": [
            "X_train Flattened Shape: (60000, 784)\n",
            "X_test Flattened Shape: (10000, 784)\n"
          ],
          "name": "stdout"
        }
      ]
    },
    {
      "cell_type": "code",
      "metadata": {
        "id": "T-ORcTIQ0uEe",
        "colab_type": "code",
        "colab": {}
      },
      "source": [
        "##Normalizing the Data\n",
        "X_train = X_train_flatten / 255\n",
        "X_test = X_test_flatten / 255"
      ],
      "execution_count": 0,
      "outputs": []
    },
    {
      "cell_type": "code",
      "metadata": {
        "id": "-hv3e_5907ZK",
        "colab_type": "code",
        "outputId": "c342b33e-ec1c-4ec7-e478-5705d59fa93f",
        "colab": {
          "base_uri": "https://localhost:8080/",
          "height": 52
        }
      },
      "source": [
        "###One Hot Encoding\n",
        "\n",
        "Y_train = keras.utils.to_categorical(Y_train_orig,10)\n",
        "Y_test = keras.utils.to_categorical(Y_test_orig,10)\n",
        "\n",
        "##Printing the the Shapes of Y Arrays after One Hot encoding\n",
        "\n",
        "print(\"Y_train Shape:\",Y_train.shape)\n",
        "print(\"Y_test Shape:\",Y_test.shape)"
      ],
      "execution_count": 0,
      "outputs": [
        {
          "output_type": "stream",
          "text": [
            "Y_train Shape: (60000, 10)\n",
            "Y_test Shape: (10000, 10)\n"
          ],
          "name": "stdout"
        }
      ]
    },
    {
      "cell_type": "code",
      "metadata": {
        "id": "DAMxs5WNZrTb",
        "colab_type": "code",
        "outputId": "36ae55dc-eb34-4919-ba7f-7279b997f8ab",
        "colab": {
          "base_uri": "https://localhost:8080/",
          "height": 87
        }
      },
      "source": [
        "###Validation Split\n",
        "\n",
        "from sklearn.model_selection import train_test_split\n",
        "\n",
        "X_train, X_val, Y_train, Y_val = train_test_split(X_train,Y_train, test_size =0.2, random_state = 42)\n",
        "\n",
        "print(X_train.shape)\n",
        "print(X_val.shape)\n",
        "print(Y_train.shape)\n",
        "print(Y_val.shape)"
      ],
      "execution_count": 0,
      "outputs": [
        {
          "output_type": "stream",
          "text": [
            "(48000, 784)\n",
            "(12000, 784)\n",
            "(48000, 10)\n",
            "(12000, 10)\n"
          ],
          "name": "stdout"
        }
      ]
    },
    {
      "cell_type": "code",
      "metadata": {
        "id": "U8GzVOPh1XKg",
        "colab_type": "code",
        "outputId": "35d42c05-7670-4d0c-9f94-af7092171951",
        "colab": {
          "base_uri": "https://localhost:8080/",
          "height": 121
        }
      },
      "source": [
        "###Overview of Processed Data\n",
        "\n",
        "print('X_train Shape:',X_train.shape)\n",
        "print('Y_train Shape:',Y_train.shape)\n",
        "print('X_train Shape:',X_val.shape)\n",
        "print('Y_train Shape:',Y_val.shape)\n",
        "print('X_test Shape:',X_test.shape)\n",
        "print('Y_test Shape:',Y_test.shape)"
      ],
      "execution_count": 0,
      "outputs": [
        {
          "output_type": "stream",
          "text": [
            "X_train Shape: (48000, 784)\n",
            "Y_train Shape: (48000, 10)\n",
            "X_train Shape: (12000, 784)\n",
            "Y_train Shape: (12000, 10)\n",
            "X_test Shape: (10000, 784)\n",
            "Y_test Shape: (10000, 10)\n"
          ],
          "name": "stdout"
        }
      ]
    },
    {
      "cell_type": "code",
      "metadata": {
        "id": "w-XmDsQF1g7w",
        "colab_type": "code",
        "colab": {}
      },
      "source": [
        "###Creating the Model\n",
        "\n",
        "#Defining the Input Shape\n",
        "input_shape = ([784])\n",
        "\n",
        "\n",
        "model = Sequential() #Allows us to create a model layer by layer\n",
        "\n",
        "\n",
        "model.add(Dense(64,activation='relu',input_shape=input_shape)) #First Hidden Layer\n",
        "model.add(Dropout(0.2))\n",
        "\n",
        "model.add(Dense(32,activation = 'relu'))\n",
        "model.add(Dropout(0.2))\n",
        "\n",
        "model.add(Dense(10,activation='softmax')) # Output Layer"
      ],
      "execution_count": 0,
      "outputs": []
    },
    {
      "cell_type": "code",
      "metadata": {
        "id": "zvMCbEcj3ch-",
        "colab_type": "code",
        "colab": {}
      },
      "source": [
        "###Compiling the Model(Choosing our optimizer,our loss function and our metric for perfromance)\n",
        "\n",
        "model.compile(optimizer='adam',loss = 'categorical_crossentropy',metrics=['categorical_accuracy'])"
      ],
      "execution_count": 0,
      "outputs": []
    },
    {
      "cell_type": "code",
      "metadata": {
        "id": "wg7qFTWo4pxb",
        "colab_type": "code",
        "colab": {}
      },
      "source": [
        "###Hyperparameters\n",
        "\n",
        "epochs = 10\n",
        "batch_size = 64"
      ],
      "execution_count": 0,
      "outputs": []
    },
    {
      "cell_type": "code",
      "metadata": {
        "id": "kSlxgZb54wdr",
        "colab_type": "code",
        "outputId": "5d07564d-7924-467c-b0cc-fffd0c491abd",
        "colab": {
          "base_uri": "https://localhost:8080/",
          "height": 401
        }
      },
      "source": [
        "###Training the model\n",
        "\n",
        "history = model.fit(X_train,Y_train,batch_size=batch_size,epochs=epochs,verbose=1,validation_data=(X_val,Y_val))"
      ],
      "execution_count": 0,
      "outputs": [
        {
          "output_type": "stream",
          "text": [
            "Train on 48000 samples, validate on 12000 samples\n",
            "Epoch 1/10\n",
            "48000/48000 [==============================] - 4s 84us/step - loss: 0.7795 - categorical_accuracy: 0.7210 - val_loss: 0.4704 - val_categorical_accuracy: 0.8276\n",
            "Epoch 2/10\n",
            "48000/48000 [==============================] - 3s 68us/step - loss: 0.5105 - categorical_accuracy: 0.8204 - val_loss: 0.4015 - val_categorical_accuracy: 0.8543\n",
            "Epoch 3/10\n",
            "48000/48000 [==============================] - 3s 72us/step - loss: 0.4598 - categorical_accuracy: 0.8366 - val_loss: 0.3821 - val_categorical_accuracy: 0.8584\n",
            "Epoch 4/10\n",
            "48000/48000 [==============================] - 3s 70us/step - loss: 0.4293 - categorical_accuracy: 0.8480 - val_loss: 0.3802 - val_categorical_accuracy: 0.8623\n",
            "Epoch 5/10\n",
            "48000/48000 [==============================] - 3s 71us/step - loss: 0.4140 - categorical_accuracy: 0.8530 - val_loss: 0.3614 - val_categorical_accuracy: 0.8647\n",
            "Epoch 6/10\n",
            "48000/48000 [==============================] - 3s 65us/step - loss: 0.3955 - categorical_accuracy: 0.8571 - val_loss: 0.3668 - val_categorical_accuracy: 0.8665\n",
            "Epoch 7/10\n",
            "48000/48000 [==============================] - 4s 75us/step - loss: 0.3878 - categorical_accuracy: 0.8596 - val_loss: 0.3569 - val_categorical_accuracy: 0.8688\n",
            "Epoch 8/10\n",
            "48000/48000 [==============================] - 3s 69us/step - loss: 0.3824 - categorical_accuracy: 0.8615 - val_loss: 0.3577 - val_categorical_accuracy: 0.8725\n",
            "Epoch 9/10\n",
            "48000/48000 [==============================] - 3s 69us/step - loss: 0.3702 - categorical_accuracy: 0.8660 - val_loss: 0.3548 - val_categorical_accuracy: 0.8719\n",
            "Epoch 10/10\n",
            "48000/48000 [==============================] - 3s 72us/step - loss: 0.3604 - categorical_accuracy: 0.8698 - val_loss: 0.3448 - val_categorical_accuracy: 0.8735\n"
          ],
          "name": "stdout"
        }
      ]
    },
    {
      "cell_type": "code",
      "metadata": {
        "id": "KSjhwW3g40gs",
        "colab_type": "code",
        "outputId": "2867c218-c561-457e-b0da-0beea6a5efe0",
        "colab": {
          "base_uri": "https://localhost:8080/",
          "height": 573
        }
      },
      "source": [
        "###Plotting the Results\n",
        "\n",
        "##Accuracy\n",
        "plt.plot(history.history['categorical_accuracy'])\n",
        "plt.plot(history.history['val_categorical_accuracy'])\n",
        "plt.title('Model accuracy')\n",
        "plt.ylabel('Accuracy')\n",
        "plt.xlabel('Epoch')\n",
        "plt.legend(['Train', 'Validation'], loc='upper left')\n",
        "plt.show()\n",
        "\n",
        "##Loss\n",
        "plt.plot(history.history['loss'])\n",
        "plt.plot(history.history['val_loss'])\n",
        "plt.title('Model loss')\n",
        "plt.ylabel('Loss')\n",
        "plt.xlabel('Epoch')\n",
        "plt.legend(['Train', 'Validation'], loc='upper left')\n",
        "plt.show()"
      ],
      "execution_count": 0,
      "outputs": [
        {
          "output_type": "display_data",
          "data": {
            "image/png": "[encoded data removed]",
            "text/plain": [
              "<Figure size 432x288 with 1 Axes>"
            ]
          },
          "metadata": {
            "tags": []
          }
        },
        {
          "output_type": "display_data",
          "data": {
            "image/png": "[encoded data removed]",
            "text/plain": [
              "<Figure size 432x288 with 1 Axes>"
            ]
          },
          "metadata": {
            "tags": []
          }
        }
      ]
    },
    {
      "cell_type": "code",
      "metadata": {
        "id": "yxon_uQ690Ro",
        "colab_type": "code",
        "outputId": "5b2fe5e2-2aee-494b-c0b4-2c42ce327eae",
        "colab": {
          "base_uri": "https://localhost:8080/",
          "height": 52
        }
      },
      "source": [
        "###Performance on the Test Set\n",
        "\n",
        "results = model.evaluate(X_test, Y_test, batch_size=batch_size)\n",
        "print('test loss, test acc:', results)"
      ],
      "execution_count": 0,
      "outputs": [
        {
          "output_type": "stream",
          "text": [
            "10000/10000 [==============================] - 0s 22us/step\n",
            "test loss, test acc: [0.3710349911928177, 0.8657]\n"
          ],
          "name": "stdout"
        }
      ]
    },
    {
      "cell_type": "code",
      "metadata": {
        "id": "S7sKbD208wjA",
        "colab_type": "code",
        "outputId": "439144a1-82b3-42b1-819a-f0fd23e53e7d",
        "colab": {
          "base_uri": "https://localhost:8080/",
          "height": 1000
        }
      },
      "source": [
        "###Checking out the Wrong Predictions\n",
        "\n",
        "predictions = model.predict(X_test)\n",
        "wrong_predictions = list()\n",
        "\n",
        "for ind in range(len(predictions)):\n",
        "  if np.argmax(predictions[ind,:,]) != np.argmax(Y_test[ind,:]):\n",
        "    wrong_predictions.append(ind)\n",
        "\n",
        "for ind in wrong_predictions[:5]:\n",
        "  img = X_test_orig[ind]\n",
        "  label = np.argmax(Y_test[ind])\n",
        "  prediction = np.argmax(predictions[ind])\n",
        "\n",
        "  print('Actual:',label_dict[label])\n",
        "  print('Prediction:',label_dict[prediction])\n",
        "  plt.imshow(img,cmap='Greys')\n",
        "  plt.show()"
      ],
      "execution_count": 0,
      "outputs": [
        {
          "output_type": "stream",
          "text": [
            "Actual: Sneaker\n",
            "Prediction: Sandal\n"
          ],
          "name": "stdout"
        },
        {
          "output_type": "display_data",
          "data": {
            "image/png": "[encoded data removed]",
            "text/plain": [
              "<Figure size 432x288 with 1 Axes>"
            ]
          },
          "metadata": {
            "tags": []
          }
        },
        {
          "output_type": "stream",
          "text": [
            "Actual: Coat\n",
            "Prediction: Pullover\n"
          ],
          "name": "stdout"
        },
        {
          "output_type": "display_data",
          "data": {
            "image/png": "[encoded data removed]",
            "text/plain": [
              "<Figure size 432x288 with 1 Axes>"
            ]
          },
          "metadata": {
            "tags": []
          }
        },
        {
          "output_type": "stream",
          "text": [
            "Actual: Sandal\n",
            "Prediction: Sneaker\n"
          ],
          "name": "stdout"
        },
        {
          "output_type": "display_data",
          "data": {
            "image/png": "[encoded data removed]",
            "text/plain": [
              "<Figure size 432x288 with 1 Axes>"
            ]
          },
          "metadata": {
            "tags": []
          }
        },
        {
          "output_type": "stream",
          "text": [
            "Actual: Ankle boot\n",
            "Prediction: Sneaker\n"
          ],
          "name": "stdout"
        },
        {
          "output_type": "display_data",
          "data": {
            "image/png": "[encoded data removed]",
            "text/plain": [
              "<Figure size 432x288 with 1 Axes>"
            ]
          },
          "metadata": {
            "tags": []
          }
        },
        {
          "output_type": "stream",
          "text": [
            "Actual: Coat\n",
            "Prediction: Pullover\n"
          ],
          "name": "stdout"
        },
        {
          "output_type": "display_data",
          "data": {
            "image/png": "[encoded data removed]",
            "text/plain": [
              "<Figure size 432x288 with 1 Axes>"
            ]
          },
          "metadata": {
            "tags": []
          }
        }
      ]
    },
    {
      "cell_type": "code",
      "metadata": {
        "id": "uMhTg4pOAbue",
        "colab_type": "code",
        "colab": {}
      },
      "source": [
        ""
      ],
      "execution_count": 0,
      "outputs": []
    }
  ]
}