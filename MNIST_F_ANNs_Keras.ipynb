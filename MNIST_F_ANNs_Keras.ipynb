{
  "nbformat": 4,
  "nbformat_minor": 0,
  "metadata": {
    "colab": {
      "name": "MNIST_F_ANNs_Keras.ipynb",
      "provenance": [],
      "collapsed_sections": [],
      "authorship_tag": "ABX9TyPzPC8i8jMRcxyjL7k6v4hb",
      "include_colab_link": true
    },
    "kernelspec": {
      "name": "python3",
      "display_name": "Python 3"
    },
    "accelerator": "GPU"
  },
  "cells": [
    {
      "cell_type": "markdown",
      "metadata": {
        "id": "view-in-github",
        "colab_type": "text"
      },
      "source": [
        "<a href=\"https://colab.research.google.com/github/whopriyam/IECSE-ML-Meet-/blob/master/MNIST_F_ANNs_Keras.ipynb\" target=\"_parent\"><img src=\"https://colab.research.google.com/assets/colab-badge.svg\" alt=\"Open In Colab\"/></a>"
      ]
    },
    {
      "cell_type": "code",
      "metadata": {
        "id": "mEcgE3bLxOwN",
        "colab_type": "code",
        "outputId": "7318b1ea-e357-4ef0-c9fa-c742aaea7b1b",
        "colab": {
          "base_uri": "https://localhost:8080/",
          "height": 81
        }
      },
      "source": [
        "###Importing the Required Libraries\n",
        "import numpy as np\n",
        "import matplotlib.pyplot as plt\n",
        "import keras\n",
        "\n",
        "from keras.models import Sequential\n",
        "from keras.layers import Dense,Dropout\n",
        "\n",
        "#Warnings Removal\n",
        "import logging\n",
        "import tensorflow as tf\n",
        "tf.get_logger().setLevel(logging.ERROR)"
      ],
      "execution_count": 0,
      "outputs": [
        {
          "output_type": "stream",
          "text": [
            "Using TensorFlow backend.\n"
          ],
          "name": "stderr"
        },
        {
          "output_type": "display_data",
          "data": {
            "text/html": [
              "<p style=\"color: red;\">\n",
              "The default version of TensorFlow in Colab will soon switch to TensorFlow 2.x.<br>\n",
              "We recommend you <a href=\"https://www.tensorflow.org/guide/migrate\" target=\"_blank\">upgrade</a> now \n",
              "or ensure your notebook will continue to use TensorFlow 1.x via the <code>%tensorflow_version 1.x</code> magic:\n",
              "<a href=\"https://colab.research.google.com/notebooks/tensorflow_version.ipynb\" target=\"_blank\">more info</a>.</p>\n"
            ],
            "text/plain": [
              "<IPython.core.display.HTML object>"
            ]
          },
          "metadata": {
            "tags": []
          }
        }
      ]
    },
    {
      "cell_type": "code",
      "metadata": {
        "id": "0OqHSwDkyOkL",
        "colab_type": "code",
        "colab": {}
      },
      "source": [
        "###Importing the Dataset from Keras\n",
        "\n",
        "from keras.datasets.fashion_mnist import load_data\n",
        "\n",
        "(X_train_orig,Y_train_orig),(X_test_orig,Y_test_orig) = load_data()"
      ],
      "execution_count": 0,
      "outputs": []
    },
    {
      "cell_type": "code",
      "metadata": {
        "id": "JVrWj5L3yzfq",
        "colab_type": "code",
        "colab": {}
      },
      "source": [
        "###Label Dictionary\n",
        "\n",
        "label_dict = {0:'T-shirt/top',\n",
        "              1:'Trouser',\n",
        "              2:'Pullover',\n",
        "              3:'Dress',\n",
        "              4:'Coat',\n",
        "              5:'Sandal',\n",
        "              6:'Shirt',\n",
        "              7:'Sneaker',\n",
        "              8:'Bag',\n",
        "              9:'Ankle boot'\n",
        "}"
      ],
      "execution_count": 0,
      "outputs": []
    },
    {
      "cell_type": "code",
      "metadata": {
        "id": "k1shd-xnyflZ",
        "colab_type": "code",
        "outputId": "2bad7421-e987-491c-f234-fadf9edfa957",
        "colab": {
          "base_uri": "https://localhost:8080/",
          "height": 87
        }
      },
      "source": [
        "###Overview of the Imported Data\n",
        "\n",
        "print(\"X_train Original Shape:\",X_train_orig.shape)\n",
        "print(\"Y_train Original Shape:\",Y_train_orig.shape)\n",
        "print(\"X_test Original Shape:\",X_test_orig.shape)\n",
        "print(\"Y_test Original Shape:\",Y_test_orig.shape)"
      ],
      "execution_count": 0,
      "outputs": [
        {
          "output_type": "stream",
          "text": [
            "X_train Original Shape: (60000, 28, 28)\n",
            "Y_train Original Shape: (60000,)\n",
            "X_test Original Shape: (10000, 28, 28)\n",
            "Y_test Original Shape: (10000,)\n"
          ],
          "name": "stdout"
        }
      ]
    },
    {
      "cell_type": "code",
      "metadata": {
        "id": "8AiX3nVTzXA0",
        "colab_type": "code",
        "outputId": "232372ec-f8c5-48fd-bc77-5815854ca378",
        "colab": {
          "base_uri": "https://localhost:8080/",
          "height": 300
        }
      },
      "source": [
        "###Visualizing a Training Example\n",
        "\n",
        "img_index = 2323 #Random Training Example\n",
        "img = X_train_orig[img_index]\n",
        "label = Y_train_orig[img_index]\n",
        "\n",
        "print(label_dict[label])\n",
        "plt.imshow(img,cmap='Greys')"
      ],
      "execution_count": 0,
      "outputs": [
        {
          "output_type": "stream",
          "text": [
            "Sandal\n"
          ],
          "name": "stdout"
        },
        {
          "output_type": "execute_result",
          "data": {
            "text/plain": [
              "<matplotlib.image.AxesImage at 0x7f865e6c94e0>"
            ]
          },
          "metadata": {
            "tags": []
          },
          "execution_count": 5
        },
        {
          "output_type": "display_data",
          "data": {
            "image/png": "[encoded data removed]",
            "text/plain": [
              "<Figure size 432x288 with 1 Axes>"
            ]
          },
          "metadata": {
            "tags": []
          }
        }
      ]
    },
    {
      "cell_type": "code",
      "metadata": {
        "id": "qCPTBY53zbWh",
        "colab_type": "code",
        "outputId": "a1447c01-50ba-46bb-d13a-e0ad642d41ba",
        "colab": {
          "base_uri": "https://localhost:8080/",
          "height": 52
        }
      },
      "source": [
        "###Preprocessing the Data\n",
        "\n",
        "##Flattening the X Arrays(Converting the Images into a Vector)\n",
        "X_train_flatten = X_train_orig.reshape(X_train_orig.shape[0],-1)\n",
        "X_test_flatten = X_test_orig.reshape(X_test_orig.shape[0],-1)\n",
        "\n",
        "##Printing the the Shapes of X Arrays after flattening\n",
        "\n",
        "print(\"X_train Flattened Shape:\",X_train_flatten.shape)\n",
        "print(\"X_test Flattened Shape:\",X_test_flatten.shape)"
      ],
      "execution_count": 0,
      "outputs": [
        {
          "output_type": "stream",
          "text": [
            "X_train Flattened Shape: (60000, 784)\n",
            "X_test Flattened Shape: (10000, 784)\n"
          ],
          "name": "stdout"
        }
      ]
    },
    {
      "cell_type": "code",
      "metadata": {
        "id": "T-ORcTIQ0uEe",
        "colab_type": "code",
        "colab": {}
      },
      "source": [
        "##Normalizing the Data\n",
        "X_train = X_train_flatten / 255\n",
        "X_test = X_test_flatten / 255"
      ],
      "execution_count": 0,
      "outputs": []
    },
    {
      "cell_type": "code",
      "metadata": {
        "id": "-hv3e_5907ZK",
        "colab_type": "code",
        "outputId": "12378f7c-eabe-4286-bbef-1790607a397d",
        "colab": {
          "base_uri": "https://localhost:8080/",
          "height": 52
        }
      },
      "source": [
        "###One Hot Encoding\n",
        "\n",
        "Y_train = keras.utils.to_categorical(Y_train_orig,10)\n",
        "Y_test = keras.utils.to_categorical(Y_test_orig,10)\n",
        "\n",
        "##Printing the the Shapes of Y Arrays after One Hot encoding\n",
        "\n",
        "print(\"Y_train Shape:\",Y_train.shape)\n",
        "print(\"Y_test Shape:\",Y_test.shape)"
      ],
      "execution_count": 0,
      "outputs": [
        {
          "output_type": "stream",
          "text": [
            "Y_train Shape: (60000, 10)\n",
            "Y_test Shape: (10000, 10)\n"
          ],
          "name": "stdout"
        }
      ]
    },
    {
      "cell_type": "code",
      "metadata": {
        "id": "U8GzVOPh1XKg",
        "colab_type": "code",
        "outputId": "ebd28583-cbae-4ed1-8c6a-37222eb45424",
        "colab": {
          "base_uri": "https://localhost:8080/",
          "height": 87
        }
      },
      "source": [
        "###Overview of Processed Data\n",
        "\n",
        "print('X_train Shape:',X_train.shape)\n",
        "print('Y_train Shape:',Y_train.shape)\n",
        "print('X_test Shape:',X_test.shape)\n",
        "print('Y_test Shape:',Y_test.shape)"
      ],
      "execution_count": 0,
      "outputs": [
        {
          "output_type": "stream",
          "text": [
            "X_train Shape: (60000, 784)\n",
            "Y_train Shape: (60000, 10)\n",
            "X_test Shape: (10000, 784)\n",
            "Y_test Shape: (10000, 10)\n"
          ],
          "name": "stdout"
        }
      ]
    },
    {
      "cell_type": "code",
      "metadata": {
        "id": "w-XmDsQF1g7w",
        "colab_type": "code",
        "colab": {}
      },
      "source": [
        "###Creating the Model\n",
        "\n",
        "#Defining the Input Shape\n",
        "input_shape = ([784])\n",
        "\n",
        "\n",
        "model = Sequential() #Allows us to create a model layer by layer\n",
        "\n",
        "\n",
        "model.add(Dense(64,activation='relu',input_shape=input_shape)) #First Hidden Layer\n",
        "model.add(Dropout(0.2))\n",
        "\n",
        "model.add(Dense(32,activation = 'relu'))\n",
        "model.add(Dropout(0.2))\n",
        "\n",
        "model.add(Dense(10,activation='softmax')) # Output Layer"
      ],
      "execution_count": 0,
      "outputs": []
    },
    {
      "cell_type": "code",
      "metadata": {
        "id": "zvMCbEcj3ch-",
        "colab_type": "code",
        "colab": {}
      },
      "source": [
        "###Compiling the Model(Choosing our optimizer,our loss function and our metric for perfromance)\n",
        "\n",
        "model.compile(optimizer='adam',loss = 'categorical_crossentropy',metrics=['categorical_accuracy'])"
      ],
      "execution_count": 0,
      "outputs": []
    },
    {
      "cell_type": "code",
      "metadata": {
        "id": "wg7qFTWo4pxb",
        "colab_type": "code",
        "colab": {}
      },
      "source": [
        "###Hyperparameters\n",
        "\n",
        "epochs = 10\n",
        "batch_size = 64"
      ],
      "execution_count": 0,
      "outputs": []
    },
    {
      "cell_type": "code",
      "metadata": {
        "id": "kSlxgZb54wdr",
        "colab_type": "code",
        "outputId": "20625346-1e2e-439c-e26c-afa1a63c6fc3",
        "colab": {
          "base_uri": "https://localhost:8080/",
          "height": 401
        }
      },
      "source": [
        "###Training the model\n",
        "\n",
        "history = model.fit(X_train,Y_train,batch_size=batch_size,epochs=epochs,verbose=1,validation_split=0.2)"
      ],
      "execution_count": 0,
      "outputs": [
        {
          "output_type": "stream",
          "text": [
            "Train on 48000 samples, validate on 12000 samples\n",
            "Epoch 1/10\n",
            "48000/48000 [==============================] - 4s 92us/step - loss: 0.7782 - categorical_accuracy: 0.7276 - val_loss: 0.4528 - val_categorical_accuracy: 0.8338\n",
            "Epoch 2/10\n",
            "48000/48000 [==============================] - 3s 65us/step - loss: 0.5068 - categorical_accuracy: 0.8207 - val_loss: 0.4095 - val_categorical_accuracy: 0.8515\n",
            "Epoch 3/10\n",
            "48000/48000 [==============================] - 3s 64us/step - loss: 0.4560 - categorical_accuracy: 0.8380 - val_loss: 0.3834 - val_categorical_accuracy: 0.8622\n",
            "Epoch 4/10\n",
            "48000/48000 [==============================] - 3s 63us/step - loss: 0.4278 - categorical_accuracy: 0.8482 - val_loss: 0.3628 - val_categorical_accuracy: 0.8670\n",
            "Epoch 5/10\n",
            "48000/48000 [==============================] - 3s 64us/step - loss: 0.4110 - categorical_accuracy: 0.8549 - val_loss: 0.3635 - val_categorical_accuracy: 0.8683\n",
            "Epoch 6/10\n",
            "48000/48000 [==============================] - 3s 70us/step - loss: 0.3963 - categorical_accuracy: 0.8591 - val_loss: 0.3557 - val_categorical_accuracy: 0.8684\n",
            "Epoch 7/10\n",
            "48000/48000 [==============================] - 3s 63us/step - loss: 0.3851 - categorical_accuracy: 0.8634 - val_loss: 0.3536 - val_categorical_accuracy: 0.8732\n",
            "Epoch 8/10\n",
            "48000/48000 [==============================] - 3s 65us/step - loss: 0.3761 - categorical_accuracy: 0.8654 - val_loss: 0.3539 - val_categorical_accuracy: 0.8707\n",
            "Epoch 9/10\n",
            "48000/48000 [==============================] - 3s 63us/step - loss: 0.3643 - categorical_accuracy: 0.8686 - val_loss: 0.3391 - val_categorical_accuracy: 0.8768\n",
            "Epoch 10/10\n",
            "48000/48000 [==============================] - 3s 66us/step - loss: 0.3582 - categorical_accuracy: 0.8710 - val_loss: 0.3529 - val_categorical_accuracy: 0.8733\n"
          ],
          "name": "stdout"
        }
      ]
    },
    {
      "cell_type": "code",
      "metadata": {
        "id": "KSjhwW3g40gs",
        "colab_type": "code",
        "outputId": "d415a378-dc31-43c4-93b6-cbb3cc68896b",
        "colab": {
          "base_uri": "https://localhost:8080/",
          "height": 573
        }
      },
      "source": [
        "###Plotting the Results\n",
        "\n",
        "##Accuracy\n",
        "plt.plot(history.history['categorical_accuracy'])\n",
        "plt.plot(history.history['val_categorical_accuracy'])\n",
        "plt.title('Model accuracy')\n",
        "plt.ylabel('Accuracy')\n",
        "plt.xlabel('Epoch')\n",
        "plt.legend(['Train', 'Validation'], loc='upper left')\n",
        "plt.show()\n",
        "\n",
        "##Loss\n",
        "plt.plot(history.history['loss'])\n",
        "plt.plot(history.history['val_loss'])\n",
        "plt.title('Model loss')\n",
        "plt.ylabel('Loss')\n",
        "plt.xlabel('Epoch')\n",
        "plt.legend(['Train', 'Validation'], loc='upper left')\n",
        "plt.show()"
      ],
      "execution_count": 0,
      "outputs": [
        {
          "output_type": "display_data",
          "data": {
            "image/png": "[encoded data removed]",
            "text/plain": [
              "<Figure size 432x288 with 1 Axes>"
            ]
          },
          "metadata": {
            "tags": []
          }
        },
        {
          "output_type": "display_data",
          "data": {
            "image/png": "[encoded data removed]",
            "text/plain": [
              "<Figure size 432x288 with 1 Axes>"
            ]
          },
          "metadata": {
            "tags": []
          }
        }
      ]
    },
    {
      "cell_type": "code",
      "metadata": {
        "id": "yxon_uQ690Ro",
        "colab_type": "code",
        "outputId": "42e82b73-00f1-4247-91c8-266ae8db30b9",
        "colab": {
          "base_uri": "https://localhost:8080/",
          "height": 52
        }
      },
      "source": [
        "###Performance on the Test Set\n",
        "\n",
        "results = model.evaluate(X_test, Y_test, batch_size=batch_size)\n",
        "print('test loss, test acc:', results)"
      ],
      "execution_count": 0,
      "outputs": [
        {
          "output_type": "stream",
          "text": [
            "10000/10000 [==============================] - 0s 21us/step\n",
            "test loss, test acc: [0.3804458353281021, 0.8662]\n"
          ],
          "name": "stdout"
        }
      ]
    },
    {
      "cell_type": "code",
      "metadata": {
        "id": "S7sKbD208wjA",
        "colab_type": "code",
        "outputId": "f4e55cc1-1fe6-4d7b-eb23-4a7bd3c57d75",
        "colab": {
          "base_uri": "https://localhost:8080/",
          "height": 1000
        }
      },
      "source": [
        "###Checking out the Wrong Predictions\n",
        "\n",
        "predictions = model.predict(X_test)\n",
        "wrong_predictions = list()\n",
        "\n",
        "for ind in range(len(predictions)):\n",
        "  if np.argmax(predictions[ind,:,]) != np.argmax(Y_test[ind,:]):\n",
        "    wrong_predictions.append(ind)\n",
        "\n",
        "for ind in wrong_predictions[:5]:\n",
        "  img = X_test_orig[ind]\n",
        "  label = np.argmax(Y_test[ind])\n",
        "  prediction = np.argmax(predictions[ind])\n",
        "\n",
        "  print('Actual:',label_dict[label])\n",
        "  print('Prediction:',label_dict[prediction])\n",
        "  plt.imshow(img,cmap='Greys')\n",
        "  plt.show()"
      ],
      "execution_count": 0,
      "outputs": [
        {
          "output_type": "stream",
          "text": [
            "Actual: Sneaker\n",
            "Prediction: Sandal\n"
          ],
          "name": "stdout"
        },
        {
          "output_type": "display_data",
          "data": {
            "image/png": "[encoded data removed]",
            "text/plain": [
              "<Figure size 432x288 with 1 Axes>"
            ]
          },
          "metadata": {
            "tags": []
          }
        },
        {
          "output_type": "stream",
          "text": [
            "Actual: Coat\n",
            "Prediction: Pullover\n"
          ],
          "name": "stdout"
        },
        {
          "output_type": "display_data",
          "data": {
            "image/png": "[encoded data removed]",
            "text/plain": [
              "<Figure size 432x288 with 1 Axes>"
            ]
          },
          "metadata": {
            "tags": []
          }
        },
        {
          "output_type": "stream",
          "text": [
            "Actual: Shirt\n",
            "Prediction: Coat\n"
          ],
          "name": "stdout"
        },
        {
          "output_type": "display_data",
          "data": {
            "image/png": "[encoded data removed]",
            "text/plain": [
              "<Figure size 432x288 with 1 Axes>"
            ]
          },
          "metadata": {
            "tags": []
          }
        },
        {
          "output_type": "stream",
          "text": [
            "Actual: Dress\n",
            "Prediction: Coat\n"
          ],
          "name": "stdout"
        },
        {
          "output_type": "display_data",
          "data": {
            "image/png": "[encoded data removed]",
            "text/plain": [
              "<Figure size 432x288 with 1 Axes>"
            ]
          },
          "metadata": {
            "tags": []
          }
        },
        {
          "output_type": "stream",
          "text": [
            "Actual: Shirt\n",
            "Prediction: T-shirt/top\n"
          ],
          "name": "stdout"
        },
        {
          "output_type": "display_data",
          "data": {
            "image/png": "[encoded data removed]",
            "text/plain": [
              "<Figure size 432x288 with 1 Axes>"
            ]
          },
          "metadata": {
            "tags": []
          }
        }
      ]
    },
    {
      "cell_type": "code",
      "metadata": {
        "id": "uMhTg4pOAbue",
        "colab_type": "code",
        "colab": {}
      },
      "source": [
        ""
      ],
      "execution_count": 0,
      "outputs": []
    }
  ]
}