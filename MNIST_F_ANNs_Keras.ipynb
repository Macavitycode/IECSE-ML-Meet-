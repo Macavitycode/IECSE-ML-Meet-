{
  "nbformat": 4,
  "nbformat_minor": 0,
  "metadata": {
    "colab": {
      "name": "MNIST_F_ANNs_Keras.ipynb",
      "provenance": [],
      "collapsed_sections": []
    },
    "kernelspec": {
      "name": "python3",
      "display_name": "Python 3"
    },
    "accelerator": "GPU"
  },
  "cells": [
    {
      "cell_type": "code",
      "metadata": {
        "id": "mEcgE3bLxOwN",
        "colab_type": "code",
        "outputId": "e4de7b27-0e94-44a5-d42f-e027c6d0c6db",
        "colab": {
          "base_uri": "https://localhost:8080/",
          "height": 81
        }
      },
      "source": [
        "###Importing the Required Libraries\n",
        "\n",
        "import numpy as np\n",
        "import pandas as pd\n",
        "import matplotlib.pyplot as plt\n",
        "import keras\n",
        "\n",
        "from keras.models import Sequential\n",
        "from keras.layers.core import Dense,Dropout"
      ],
      "execution_count": 0,
      "outputs": [
        {
          "output_type": "stream",
          "text": [
            "Using TensorFlow backend.\n"
          ],
          "name": "stderr"
        },
        {
          "output_type": "display_data",
          "data": {
            "text/html": [
              "<p style=\"color: red;\">\n",
              "The default version of TensorFlow in Colab will soon switch to TensorFlow 2.x.<br>\n",
              "We recommend you <a href=\"https://www.tensorflow.org/guide/migrate\" target=\"_blank\">upgrade</a> now \n",
              "or ensure your notebook will continue to use TensorFlow 1.x via the <code>%tensorflow_version 1.x</code> magic:\n",
              "<a href=\"https://colab.research.google.com/notebooks/tensorflow_version.ipynb\" target=\"_blank\">more info</a>.</p>\n"
            ],
            "text/plain": [
              "<IPython.core.display.HTML object>"
            ]
          },
          "metadata": {
            "tags": []
          }
        }
      ]
    },
    {
      "cell_type": "code",
      "metadata": {
        "id": "0OqHSwDkyOkL",
        "colab_type": "code",
        "colab": {}
      },
      "source": [
        "###Importing the Dataset from Keras\n",
        "\n",
        "from keras.datasets.fashion_mnist import load_data\n",
        "\n",
        "(X_train_orig,Y_train_orig),(X_test_orig,Y_test_orig) = load_data()"
      ],
      "execution_count": 0,
      "outputs": []
    },
    {
      "cell_type": "code",
      "metadata": {
        "id": "JVrWj5L3yzfq",
        "colab_type": "code",
        "colab": {}
      },
      "source": [
        "###Label Dictionary\n",
        "\n",
        "label_dict = {0:'T-shirt/top',\n",
        "              1:'Trouser',\n",
        "              2:'Pullover',\n",
        "              3:'Dress',\n",
        "              4:'Coat',\n",
        "              5:'Sandal',\n",
        "              6:'Shirt',\n",
        "              7:'Sneaker',\n",
        "              8:'Bag',\n",
        "              9:'Ankle boot'\n",
        "}"
      ],
      "execution_count": 0,
      "outputs": []
    },
    {
      "cell_type": "code",
      "metadata": {
        "id": "k1shd-xnyflZ",
        "colab_type": "code",
        "outputId": "956ff24e-507f-4e8f-a4eb-b27b3b4a55d0",
        "colab": {
          "base_uri": "https://localhost:8080/",
          "height": 87
        }
      },
      "source": [
        "###Overview of the Imported Data\n",
        "\n",
        "print(\"X_train Original Shape:\",X_train_orig.shape)\n",
        "print(\"Y_train Original Shape:\",Y_train_orig.shape)\n",
        "print(\"X_test Original Shape:\",X_test_orig.shape)\n",
        "print(\"Y_test Original Shape:\",Y_test_orig.shape)"
      ],
      "execution_count": 0,
      "outputs": [
        {
          "output_type": "stream",
          "text": [
            "X_train Original Shape: (60000, 28, 28)\n",
            "Y_train Original Shape: (60000,)\n",
            "X_test Original Shape: (10000, 28, 28)\n",
            "Y_test Original Shape: (10000,)\n"
          ],
          "name": "stdout"
        }
      ]
    },
    {
      "cell_type": "code",
      "metadata": {
        "id": "8AiX3nVTzXA0",
        "colab_type": "code",
        "outputId": "d077f82f-60d1-4d2a-c2dd-0372bcca4dfa",
        "colab": {
          "base_uri": "https://localhost:8080/",
          "height": 300
        }
      },
      "source": [
        "###Visualizing a Training Example\n",
        "\n",
        "img_index = 2323 #Random Training Example\n",
        "img = X_train_orig[img_index]\n",
        "label = Y_train_orig[img_index]\n",
        "\n",
        "print(label_dict[label])\n",
        "plt.imshow(img,cmap='Greys')"
      ],
      "execution_count": 0,
      "outputs": [
        {
          "output_type": "stream",
          "text": [
            "Sandal\n"
          ],
          "name": "stdout"
        },
        {
          "output_type": "execute_result",
          "data": {
            "text/plain": [
              "<matplotlib.image.AxesImage at 0x7f5f77d4b3c8>"
            ]
          },
          "metadata": {
            "tags": []
          },
          "execution_count": 5
        },
        {
          "output_type": "display_data",
          "data": {
            "image/png": "[encoded data removed]",
            "text/plain": [
              "<Figure size 432x288 with 1 Axes>"
            ]
          },
          "metadata": {
            "tags": []
          }
        }
      ]
    },
    {
      "cell_type": "code",
      "metadata": {
        "id": "qCPTBY53zbWh",
        "colab_type": "code",
        "outputId": "c3c7ab8b-6878-4026-aa07-13e983e2de0d",
        "colab": {
          "base_uri": "https://localhost:8080/",
          "height": 52
        }
      },
      "source": [
        "###Preprocessing the Data\n",
        "\n",
        "##Flattening the X Arrays(Converting the Images into a Vector)\n",
        "X_train_flatten = X_train_orig.reshape(X_train_orig.shape[0],-1)\n",
        "X_test_flatten = X_test_orig.reshape(X_test_orig.shape[0],-1)\n",
        "\n",
        "##Printing the the Shapes of X Arrays after flattening\n",
        "\n",
        "print(\"X_train Flattened Shape:\",X_train_flatten.shape)\n",
        "print(\"X_test Flattened Shape:\",X_test_flatten.shape)"
      ],
      "execution_count": 0,
      "outputs": [
        {
          "output_type": "stream",
          "text": [
            "X_train Flattened Shape: (60000, 784)\n",
            "X_test Flattened Shape: (10000, 784)\n"
          ],
          "name": "stdout"
        }
      ]
    },
    {
      "cell_type": "code",
      "metadata": {
        "id": "T-ORcTIQ0uEe",
        "colab_type": "code",
        "colab": {}
      },
      "source": [
        "##Normalizing the Data\n",
        "X_train = X_train_flatten / 255\n",
        "X_test = X_test_flatten / 255"
      ],
      "execution_count": 0,
      "outputs": []
    },
    {
      "cell_type": "code",
      "metadata": {
        "id": "-hv3e_5907ZK",
        "colab_type": "code",
        "outputId": "6b16cbb4-0994-4bb0-8895-530894583d19",
        "colab": {
          "base_uri": "https://localhost:8080/",
          "height": 52
        }
      },
      "source": [
        "###One Hot Encoding\n",
        "\n",
        "Y_train = keras.utils.to_categorical(Y_train_orig,10)\n",
        "Y_test = keras.utils.to_categorical(Y_test_orig,10)\n",
        "\n",
        "##Printing the the Shapes of Y Arrays after One Hot encoding\n",
        "\n",
        "print(\"Y_train Shape:\",Y_train.shape)\n",
        "print(\"Y_test Shape:\",Y_test.shape)"
      ],
      "execution_count": 0,
      "outputs": [
        {
          "output_type": "stream",
          "text": [
            "Y_train Shape: (60000, 10)\n",
            "Y_test Shape: (10000, 10)\n"
          ],
          "name": "stdout"
        }
      ]
    },
    {
      "cell_type": "code",
      "metadata": {
        "id": "U8GzVOPh1XKg",
        "colab_type": "code",
        "outputId": "aab0cae8-b00a-4dc7-9fa5-d5a51db473a6",
        "colab": {
          "base_uri": "https://localhost:8080/",
          "height": 87
        }
      },
      "source": [
        "###Overview of Processed Data\n",
        "\n",
        "print('X_train Shape:',X_train.shape)\n",
        "print('Y_train Shape:',Y_train.shape)\n",
        "print('X_test Shape:',X_test.shape)\n",
        "print('Y_test Shape:',Y_test.shape)"
      ],
      "execution_count": 0,
      "outputs": [
        {
          "output_type": "stream",
          "text": [
            "X_train Shape: (60000, 784)\n",
            "Y_train Shape: (60000, 10)\n",
            "X_test Shape: (10000, 784)\n",
            "Y_test Shape: (10000, 10)\n"
          ],
          "name": "stdout"
        }
      ]
    },
    {
      "cell_type": "code",
      "metadata": {
        "id": "w-XmDsQF1g7w",
        "colab_type": "code",
        "outputId": "d815606e-5805-4587-e8fa-651c32c44b9a",
        "colab": {
          "base_uri": "https://localhost:8080/",
          "height": 228
        }
      },
      "source": [
        "###Creating the Model\n",
        "\n",
        "#Defining the Input Shape\n",
        "input_shape = ([784])\n",
        "\n",
        "\n",
        "model = Sequential() #Allows us to create a model layer by layer\n",
        "\n",
        "\n",
        "model.add(Dense(512,activation='relu',input_shape=input_shape)) #First Hidden Layer\n",
        "model.add(Dropout(0.3))\n",
        "\n",
        "model.add(Dense(256,activation = 'relu'))\n",
        "model.add(Dropout(0.3))\n",
        "\n",
        "model.add(Dense(128,activation = 'relu'))\n",
        "model.add(Dropout(0.25))\n",
        "\n",
        "model.add(Dense(10,activation='softmax')) # Output Layer"
      ],
      "execution_count": 0,
      "outputs": [
        {
          "output_type": "stream",
          "text": [
            "WARNING:tensorflow:From /usr/local/lib/python3.6/dist-packages/keras/backend/tensorflow_backend.py:66: The name tf.get_default_graph is deprecated. Please use tf.compat.v1.get_default_graph instead.\n",
            "\n",
            "WARNING:tensorflow:From /usr/local/lib/python3.6/dist-packages/keras/backend/tensorflow_backend.py:541: The name tf.placeholder is deprecated. Please use tf.compat.v1.placeholder instead.\n",
            "\n",
            "WARNING:tensorflow:From /usr/local/lib/python3.6/dist-packages/keras/backend/tensorflow_backend.py:4432: The name tf.random_uniform is deprecated. Please use tf.random.uniform instead.\n",
            "\n",
            "WARNING:tensorflow:From /usr/local/lib/python3.6/dist-packages/keras/backend/tensorflow_backend.py:148: The name tf.placeholder_with_default is deprecated. Please use tf.compat.v1.placeholder_with_default instead.\n",
            "\n",
            "WARNING:tensorflow:From /usr/local/lib/python3.6/dist-packages/keras/backend/tensorflow_backend.py:3733: calling dropout (from tensorflow.python.ops.nn_ops) with keep_prob is deprecated and will be removed in a future version.\n",
            "Instructions for updating:\n",
            "Please use `rate` instead of `keep_prob`. Rate should be set to `rate = 1 - keep_prob`.\n"
          ],
          "name": "stdout"
        }
      ]
    },
    {
      "cell_type": "code",
      "metadata": {
        "id": "zvMCbEcj3ch-",
        "colab_type": "code",
        "outputId": "b5b42816-6f4c-490e-db01-ef3461ff7891",
        "colab": {
          "base_uri": "https://localhost:8080/",
          "height": 107
        }
      },
      "source": [
        "###Compiling the Model(Choosing our optimizer,our loss function and our metric for perfromance)\n",
        "\n",
        "model.compile(optimizer='adam',loss = 'categorical_crossentropy',metrics=['categorical_accuracy'])"
      ],
      "execution_count": 0,
      "outputs": [
        {
          "output_type": "stream",
          "text": [
            "WARNING:tensorflow:From /usr/local/lib/python3.6/dist-packages/keras/optimizers.py:793: The name tf.train.Optimizer is deprecated. Please use tf.compat.v1.train.Optimizer instead.\n",
            "\n",
            "WARNING:tensorflow:From /usr/local/lib/python3.6/dist-packages/keras/backend/tensorflow_backend.py:3576: The name tf.log is deprecated. Please use tf.math.log instead.\n",
            "\n"
          ],
          "name": "stdout"
        }
      ]
    },
    {
      "cell_type": "code",
      "metadata": {
        "id": "wg7qFTWo4pxb",
        "colab_type": "code",
        "colab": {}
      },
      "source": [
        "###Hyperparameters\n",
        "\n",
        "epochs = 50\n",
        "batch_size = 64"
      ],
      "execution_count": 0,
      "outputs": []
    },
    {
      "cell_type": "code",
      "metadata": {
        "id": "kSlxgZb54wdr",
        "colab_type": "code",
        "outputId": "16669674-2ba3-4a59-a34e-a77041d3035b",
        "colab": {
          "base_uri": "https://localhost:8080/",
          "height": 1000
        }
      },
      "source": [
        "###Training the model\n",
        "\n",
        "history = model.fit(X_train,Y_train,batch_size=batch_size,epochs=epochs,verbose=1,validation_data=(X_test,Y_test))"
      ],
      "execution_count": 0,
      "outputs": [
        {
          "output_type": "stream",
          "text": [
            "WARNING:tensorflow:From /usr/local/lib/python3.6/dist-packages/tensorflow_core/python/ops/math_grad.py:1424: where (from tensorflow.python.ops.array_ops) is deprecated and will be removed in a future version.\n",
            "Instructions for updating:\n",
            "Use tf.where in 2.0, which has the same broadcast rule as np.where\n",
            "WARNING:tensorflow:From /usr/local/lib/python3.6/dist-packages/keras/backend/tensorflow_backend.py:1033: The name tf.assign_add is deprecated. Please use tf.compat.v1.assign_add instead.\n",
            "\n",
            "WARNING:tensorflow:From /usr/local/lib/python3.6/dist-packages/keras/backend/tensorflow_backend.py:1020: The name tf.assign is deprecated. Please use tf.compat.v1.assign instead.\n",
            "\n",
            "WARNING:tensorflow:From /usr/local/lib/python3.6/dist-packages/keras/backend/tensorflow_backend.py:3005: The name tf.Session is deprecated. Please use tf.compat.v1.Session instead.\n",
            "\n",
            "Train on 60000 samples, validate on 10000 samples\n",
            "Epoch 1/50\n",
            "WARNING:tensorflow:From /usr/local/lib/python3.6/dist-packages/keras/backend/tensorflow_backend.py:190: The name tf.get_default_session is deprecated. Please use tf.compat.v1.get_default_session instead.\n",
            "\n",
            "WARNING:tensorflow:From /usr/local/lib/python3.6/dist-packages/keras/backend/tensorflow_backend.py:197: The name tf.ConfigProto is deprecated. Please use tf.compat.v1.ConfigProto instead.\n",
            "\n",
            "WARNING:tensorflow:From /usr/local/lib/python3.6/dist-packages/keras/backend/tensorflow_backend.py:207: The name tf.global_variables is deprecated. Please use tf.compat.v1.global_variables instead.\n",
            "\n",
            "WARNING:tensorflow:From /usr/local/lib/python3.6/dist-packages/keras/backend/tensorflow_backend.py:216: The name tf.is_variable_initialized is deprecated. Please use tf.compat.v1.is_variable_initialized instead.\n",
            "\n",
            "WARNING:tensorflow:From /usr/local/lib/python3.6/dist-packages/keras/backend/tensorflow_backend.py:223: The name tf.variables_initializer is deprecated. Please use tf.compat.v1.variables_initializer instead.\n",
            "\n",
            "60000/60000 [==============================] - 6s 100us/step - loss: 0.5962 - categorical_accuracy: 0.7842 - val_loss: 0.4306 - val_categorical_accuracy: 0.8438\n",
            "Epoch 2/50\n",
            "60000/60000 [==============================] - 5s 75us/step - loss: 0.4346 - categorical_accuracy: 0.8415 - val_loss: 0.4204 - val_categorical_accuracy: 0.8454\n",
            "Epoch 3/50\n",
            "60000/60000 [==============================] - 5s 76us/step - loss: 0.3985 - categorical_accuracy: 0.8561 - val_loss: 0.3813 - val_categorical_accuracy: 0.8628\n",
            "Epoch 4/50\n",
            "60000/60000 [==============================] - 5s 79us/step - loss: 0.3746 - categorical_accuracy: 0.8638 - val_loss: 0.3671 - val_categorical_accuracy: 0.8683\n",
            "Epoch 5/50\n",
            "60000/60000 [==============================] - 5s 78us/step - loss: 0.3625 - categorical_accuracy: 0.8687 - val_loss: 0.3650 - val_categorical_accuracy: 0.8668\n",
            "Epoch 6/50\n",
            "60000/60000 [==============================] - 5s 76us/step - loss: 0.3494 - categorical_accuracy: 0.8737 - val_loss: 0.3530 - val_categorical_accuracy: 0.8752\n",
            "Epoch 7/50\n",
            "60000/60000 [==============================] - 5s 76us/step - loss: 0.3339 - categorical_accuracy: 0.8779 - val_loss: 0.3490 - val_categorical_accuracy: 0.8702\n",
            "Epoch 8/50\n",
            "60000/60000 [==============================] - 5s 80us/step - loss: 0.3282 - categorical_accuracy: 0.8804 - val_loss: 0.3396 - val_categorical_accuracy: 0.8775\n",
            "Epoch 9/50\n",
            "60000/60000 [==============================] - 5s 81us/step - loss: 0.3217 - categorical_accuracy: 0.8816 - val_loss: 0.3331 - val_categorical_accuracy: 0.8807\n",
            "Epoch 10/50\n",
            "60000/60000 [==============================] - 5s 82us/step - loss: 0.3111 - categorical_accuracy: 0.8845 - val_loss: 0.3536 - val_categorical_accuracy: 0.8704\n",
            "Epoch 11/50\n",
            "60000/60000 [==============================] - 5s 76us/step - loss: 0.3096 - categorical_accuracy: 0.8863 - val_loss: 0.3344 - val_categorical_accuracy: 0.8750\n",
            "Epoch 12/50\n",
            "60000/60000 [==============================] - 5s 79us/step - loss: 0.3006 - categorical_accuracy: 0.8890 - val_loss: 0.3387 - val_categorical_accuracy: 0.8816\n",
            "Epoch 13/50\n",
            "60000/60000 [==============================] - 5s 75us/step - loss: 0.2946 - categorical_accuracy: 0.8902 - val_loss: 0.3291 - val_categorical_accuracy: 0.8832\n",
            "Epoch 14/50\n",
            "60000/60000 [==============================] - 5s 78us/step - loss: 0.2957 - categorical_accuracy: 0.8902 - val_loss: 0.3182 - val_categorical_accuracy: 0.8866\n",
            "Epoch 15/50\n",
            "60000/60000 [==============================] - 5s 75us/step - loss: 0.2860 - categorical_accuracy: 0.8951 - val_loss: 0.3263 - val_categorical_accuracy: 0.8841\n",
            "Epoch 16/50\n",
            "60000/60000 [==============================] - 4s 75us/step - loss: 0.2857 - categorical_accuracy: 0.8939 - val_loss: 0.3251 - val_categorical_accuracy: 0.8869\n",
            "Epoch 17/50\n",
            "60000/60000 [==============================] - 5s 80us/step - loss: 0.2795 - categorical_accuracy: 0.8968 - val_loss: 0.3114 - val_categorical_accuracy: 0.8896\n",
            "Epoch 18/50\n",
            "60000/60000 [==============================] - 5s 76us/step - loss: 0.2746 - categorical_accuracy: 0.8983 - val_loss: 0.3183 - val_categorical_accuracy: 0.8888\n",
            "Epoch 19/50\n",
            "60000/60000 [==============================] - 5s 79us/step - loss: 0.2737 - categorical_accuracy: 0.9000 - val_loss: 0.3214 - val_categorical_accuracy: 0.8851\n",
            "Epoch 20/50\n",
            "60000/60000 [==============================] - 5s 76us/step - loss: 0.2691 - categorical_accuracy: 0.8993 - val_loss: 0.3246 - val_categorical_accuracy: 0.8868\n",
            "Epoch 21/50\n",
            "60000/60000 [==============================] - 5s 75us/step - loss: 0.2662 - categorical_accuracy: 0.9016 - val_loss: 0.3215 - val_categorical_accuracy: 0.8866\n",
            "Epoch 22/50\n",
            "60000/60000 [==============================] - 5s 76us/step - loss: 0.2661 - categorical_accuracy: 0.9019 - val_loss: 0.3326 - val_categorical_accuracy: 0.8836\n",
            "Epoch 23/50\n",
            "60000/60000 [==============================] - 5s 79us/step - loss: 0.2604 - categorical_accuracy: 0.9031 - val_loss: 0.3224 - val_categorical_accuracy: 0.8887\n",
            "Epoch 24/50\n",
            "60000/60000 [==============================] - 5s 77us/step - loss: 0.2588 - categorical_accuracy: 0.9039 - val_loss: 0.3282 - val_categorical_accuracy: 0.8871\n",
            "Epoch 25/50\n",
            "60000/60000 [==============================] - 5s 78us/step - loss: 0.2533 - categorical_accuracy: 0.9059 - val_loss: 0.3167 - val_categorical_accuracy: 0.8882\n",
            "Epoch 26/50\n",
            "60000/60000 [==============================] - 5s 81us/step - loss: 0.2527 - categorical_accuracy: 0.9060 - val_loss: 0.3097 - val_categorical_accuracy: 0.8916\n",
            "Epoch 27/50\n",
            "60000/60000 [==============================] - 5s 77us/step - loss: 0.2506 - categorical_accuracy: 0.9073 - val_loss: 0.3322 - val_categorical_accuracy: 0.8878\n",
            "Epoch 28/50\n",
            "60000/60000 [==============================] - 4s 73us/step - loss: 0.2457 - categorical_accuracy: 0.9084 - val_loss: 0.3165 - val_categorical_accuracy: 0.8918\n",
            "Epoch 29/50\n",
            "60000/60000 [==============================] - 5s 77us/step - loss: 0.2456 - categorical_accuracy: 0.9092 - val_loss: 0.3060 - val_categorical_accuracy: 0.8938\n",
            "Epoch 30/50\n",
            "60000/60000 [==============================] - 5s 76us/step - loss: 0.2431 - categorical_accuracy: 0.9103 - val_loss: 0.3161 - val_categorical_accuracy: 0.8950\n",
            "Epoch 31/50\n",
            "60000/60000 [==============================] - 4s 74us/step - loss: 0.2409 - categorical_accuracy: 0.9105 - val_loss: 0.3229 - val_categorical_accuracy: 0.8910\n",
            "Epoch 32/50\n",
            "60000/60000 [==============================] - 5s 78us/step - loss: 0.2384 - categorical_accuracy: 0.9109 - val_loss: 0.3064 - val_categorical_accuracy: 0.8913\n",
            "Epoch 33/50\n",
            "60000/60000 [==============================] - 5s 75us/step - loss: 0.2370 - categorical_accuracy: 0.9118 - val_loss: 0.3290 - val_categorical_accuracy: 0.8885\n",
            "Epoch 34/50\n",
            "60000/60000 [==============================] - 5s 77us/step - loss: 0.2353 - categorical_accuracy: 0.9122 - val_loss: 0.3125 - val_categorical_accuracy: 0.8939\n",
            "Epoch 35/50\n",
            "60000/60000 [==============================] - 4s 73us/step - loss: 0.2351 - categorical_accuracy: 0.9137 - val_loss: 0.3231 - val_categorical_accuracy: 0.8885\n",
            "Epoch 36/50\n",
            "60000/60000 [==============================] - 5s 78us/step - loss: 0.2326 - categorical_accuracy: 0.9137 - val_loss: 0.3246 - val_categorical_accuracy: 0.8928\n",
            "Epoch 37/50\n",
            "60000/60000 [==============================] - 5s 75us/step - loss: 0.2299 - categorical_accuracy: 0.9151 - val_loss: 0.3131 - val_categorical_accuracy: 0.8937\n",
            "Epoch 38/50\n",
            "60000/60000 [==============================] - 4s 73us/step - loss: 0.2345 - categorical_accuracy: 0.9130 - val_loss: 0.3146 - val_categorical_accuracy: 0.8940\n",
            "Epoch 39/50\n",
            "60000/60000 [==============================] - 5s 76us/step - loss: 0.2257 - categorical_accuracy: 0.9161 - val_loss: 0.3217 - val_categorical_accuracy: 0.8906\n",
            "Epoch 40/50\n",
            "60000/60000 [==============================] - 5s 81us/step - loss: 0.2259 - categorical_accuracy: 0.9169 - val_loss: 0.3103 - val_categorical_accuracy: 0.8975\n",
            "Epoch 41/50\n",
            "60000/60000 [==============================] - 5s 77us/step - loss: 0.2245 - categorical_accuracy: 0.9160 - val_loss: 0.3224 - val_categorical_accuracy: 0.8933\n",
            "Epoch 42/50\n",
            "60000/60000 [==============================] - 5s 76us/step - loss: 0.2185 - categorical_accuracy: 0.9174 - val_loss: 0.3186 - val_categorical_accuracy: 0.8923\n",
            "Epoch 43/50\n",
            "60000/60000 [==============================] - 5s 77us/step - loss: 0.2183 - categorical_accuracy: 0.9183 - val_loss: 0.3133 - val_categorical_accuracy: 0.8949\n",
            "Epoch 44/50\n",
            "60000/60000 [==============================] - 5s 77us/step - loss: 0.2201 - categorical_accuracy: 0.9184 - val_loss: 0.3221 - val_categorical_accuracy: 0.8903\n",
            "Epoch 45/50\n",
            "60000/60000 [==============================] - 4s 75us/step - loss: 0.2218 - categorical_accuracy: 0.9179 - val_loss: 0.3411 - val_categorical_accuracy: 0.8852\n",
            "Epoch 46/50\n",
            "60000/60000 [==============================] - 5s 80us/step - loss: 0.2194 - categorical_accuracy: 0.9198 - val_loss: 0.3098 - val_categorical_accuracy: 0.8987\n",
            "Epoch 47/50\n",
            "60000/60000 [==============================] - 5s 77us/step - loss: 0.2133 - categorical_accuracy: 0.9206 - val_loss: 0.3179 - val_categorical_accuracy: 0.8955\n",
            "Epoch 48/50\n",
            "60000/60000 [==============================] - 5s 76us/step - loss: 0.2134 - categorical_accuracy: 0.9200 - val_loss: 0.3118 - val_categorical_accuracy: 0.8984\n",
            "Epoch 49/50\n",
            "60000/60000 [==============================] - 5s 78us/step - loss: 0.2127 - categorical_accuracy: 0.9211 - val_loss: 0.3123 - val_categorical_accuracy: 0.8973\n",
            "Epoch 50/50\n",
            "60000/60000 [==============================] - 5s 75us/step - loss: 0.2102 - categorical_accuracy: 0.9213 - val_loss: 0.3390 - val_categorical_accuracy: 0.8948\n"
          ],
          "name": "stdout"
        }
      ]
    },
    {
      "cell_type": "code",
      "metadata": {
        "id": "KSjhwW3g40gs",
        "colab_type": "code",
        "outputId": "3e570590-5416-41b4-ca34-e85cbd3e4b61",
        "colab": {
          "base_uri": "https://localhost:8080/",
          "height": 573
        }
      },
      "source": [
        "###Plotting the Results\n",
        "\n",
        "##Accuracy\n",
        "plt.plot(history.history['categorical_accuracy'])\n",
        "plt.plot(history.history['val_categorical_accuracy'])\n",
        "plt.title('Model accuracy')\n",
        "plt.ylabel('Accuracy')\n",
        "plt.xlabel('Epoch')\n",
        "plt.legend(['Train', 'Validation'], loc='upper left')\n",
        "plt.show()\n",
        "\n",
        "##Loss\n",
        "plt.plot(history.history['loss'])\n",
        "plt.plot(history.history['val_loss'])\n",
        "plt.title('Model loss')\n",
        "plt.ylabel('Loss')\n",
        "plt.xlabel('Epoch')\n",
        "plt.legend(['Train', 'Validation'], loc='upper left')\n",
        "plt.show()"
      ],
      "execution_count": 0,
      "outputs": [
        {
          "output_type": "display_data",
          "data": {
            "image/png": "[encoded data removed]",
            "text/plain": [
              "<Figure size 432x288 with 1 Axes>"
            ]
          },
          "metadata": {
            "tags": []
          }
        },
        {
          "output_type": "display_data",
          "data": {
            "image/png": "[encoded data removed]",
            "text/plain": [
              "<Figure size 432x288 with 1 Axes>"
            ]
          },
          "metadata": {
            "tags": []
          }
        }
      ]
    },
    {
      "cell_type": "code",
      "metadata": {
        "id": "yxon_uQ690Ro",
        "colab_type": "code",
        "colab": {}
      },
      "source": [
        ""
      ],
      "execution_count": 0,
      "outputs": []
    }
  ]
}